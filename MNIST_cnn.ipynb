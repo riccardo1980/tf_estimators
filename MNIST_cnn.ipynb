{
  "nbformat": 4,
  "nbformat_minor": 0,
  "metadata": {
    "colab": {
      "name": "MNIST_cnn.ipynb",
      "version": "0.3.2",
      "provenance": [],
      "collapsed_sections": []
    },
    "kernelspec": {
      "name": "python3",
      "display_name": "Python 3"
    },
    "accelerator": "GPU"
  },
  "cells": [
    {
      "cell_type": "markdown",
      "metadata": {
        "id": "4YZxdEpCSnu3",
        "colab_type": "text"
      },
      "source": [
        "# Simple CNN for Image Classification\n",
        "-  dataset: MNIST\n",
        "- TensorFlow: tf.nn, tf.Estimator\n",
        "- Colab TensorBoard monitoring"
      ]
    },
    {
      "cell_type": "code",
      "metadata": {
        "id": "A3zbQK02Wkz6",
        "colab_type": "code",
        "colab": {}
      },
      "source": [
        "from datetime import datetime\n",
        "import os\n",
        "import tensorflow as tf\n",
        "import numpy as np"
      ],
      "execution_count": 0,
      "outputs": []
    },
    {
      "cell_type": "code",
      "metadata": {
        "id": "nksdyzI2XGsj",
        "colab_type": "code",
        "outputId": "20e6400b-968f-419f-d907-6218730e10ff",
        "colab": {
          "base_uri": "https://localhost:8080/",
          "height": 34
        }
      },
      "source": [
        "now = datetime.utcnow().strftime(\"%Y%m%d_%H%M%S\")\n",
        "MODEL_DIR=os.path.join(\"/tmp/mnist_convnet_model\", now)\n",
        "\n",
        "try:  \n",
        "    os.makedirs(MODEL_DIR)\n",
        "except OSError:  \n",
        "    print (\"Creation of the directory %s failed\" % MODEL_DIR)\n",
        "else:  \n",
        "    print (\"Successfully created the directory %s \" % MODEL_DIR)"
      ],
      "execution_count": 2,
      "outputs": [
        {
          "output_type": "stream",
          "text": [
            "Successfully created the directory /tmp/mnist_convnet_model/20190507_155525 \n"
          ],
          "name": "stdout"
        }
      ]
    },
    {
      "cell_type": "markdown",
      "metadata": {
        "id": "b6GX9nHfwxLT",
        "colab_type": "text"
      },
      "source": [
        "## Start TensorBoard"
      ]
    },
    {
      "cell_type": "code",
      "metadata": {
        "id": "9ftxvdNf7zPT",
        "colab_type": "code",
        "colab": {}
      },
      "source": [
        "get_ipython().system_raw(\n",
        "    'tensorboard --logdir {} --host 0.0.0.0 --port 6006 &'\n",
        "    .format(MODEL_DIR)\n",
        ")"
      ],
      "execution_count": 0,
      "outputs": []
    },
    {
      "cell_type": "markdown",
      "metadata": {
        "id": "NMPDCj8hwqUx",
        "colab_type": "text"
      },
      "source": [
        "##[optional] Get ngrock and run it\n"
      ]
    },
    {
      "cell_type": "code",
      "metadata": {
        "id": "lWlGvF9AY1La",
        "colab_type": "code",
        "outputId": "fb53af1e-c14b-403a-a7b5-8d7f0127213b",
        "colab": {
          "base_uri": "https://localhost:8080/",
          "height": 34
        }
      },
      "source": [
        "import requests, time\n",
        "\n",
        "max_tries=3  # max attempts\n",
        "grace_time=1 # seconds\n",
        "\n",
        "![[ ! -f \"ngrok\" ]]  \\\n",
        "  && wget https://bin.equinox.io/c/4VmDzA7iaHb/ngrok-stable-linux-amd64.zip \\\n",
        "  && unzip ngrok-stable-linux-amd64.zip \\\n",
        "  && rm ngrok-stable-linux-amd64.zip\n",
        "\n",
        "get_ipython().system_raw('./ngrok http 6006 &')\n",
        "time.sleep(grace_time)\n",
        "\n",
        "for attempt in range(max_tries):\n",
        "  try:\n",
        "    tunnels_list = requests.get('http://localhost:4040/api/tunnels').json()['tunnels']\n",
        "    print('resource available at: {}'.format(tunnels_list[0]['public_url']))\n",
        "    break\n",
        "    \n",
        "  except ConnectionRefusedError:\n",
        "    print('retry after {} second[s]'.format(grace_time))\n",
        "    time.sleep(grace_time)  "
      ],
      "execution_count": 4,
      "outputs": [
        {
          "output_type": "stream",
          "text": [
            "resource available at: https://2f97a444.ngrok.io\n"
          ],
          "name": "stdout"
        }
      ]
    },
    {
      "cell_type": "markdown",
      "metadata": {
        "id": "itw9uDc8tX2S",
        "colab_type": "text"
      },
      "source": [
        "# Define Estimator functions"
      ]
    },
    {
      "cell_type": "code",
      "metadata": {
        "id": "8BLHeKUFlV79",
        "colab_type": "code",
        "colab": {}
      },
      "source": [
        "#tf.logging.set_verbosity(tf.logging.INFO)"
      ],
      "execution_count": 0,
      "outputs": []
    },
    {
      "cell_type": "code",
      "metadata": {
        "id": "K0gwXbh4lmHm",
        "colab_type": "code",
        "colab": {}
      },
      "source": [
        "def make_model_fn(optimizer, cnn_config, fc_config, \n",
        "                  input_shape = (28,28,1), classes = 10): \n",
        "                  \n",
        "  [ HEIGHT, WIDTH, CHANNELS ] = input_shape\n",
        "  \n",
        "  def net_summary(net):\n",
        "    for idx, t in enumerate(net):\n",
        "      print('{} {} {}'.format(idx+1, t.name, t.shape))\n",
        "  \n",
        "  def _add_fc(net, config):\n",
        "    for hidden in config:\n",
        "      with tf.variable_scope('dense'):\n",
        "        net.append(tf.keras.layers.Dense(hidden, \n",
        "                                         activation='relu', \n",
        "                                         name='fc')(net[-1]))\n",
        "    return net\n",
        "  \n",
        "  def _add_cnn(net, config):\n",
        "    for k, s, f in config:\n",
        "      with tf.variable_scope('conv'):\n",
        "        \n",
        "        last_layer = net[-1]\n",
        "        kernel = tf.Variable(tf.truncated_normal(shape=(k, k, last_layer.shape[-1].value, f), \n",
        "                                                 dtype=tf.float32, mean=0,\n",
        "                                                 stddev=0.1), name='kernel')\n",
        "        net.append(tf.nn.conv2d(last_layer, kernel, strides=(1, 1, 1, 1),\n",
        "                            padding='SAME', name='conv'))\n",
        "        \n",
        "        net.append(tf.nn.relu(net[-1], name='relu'))\n",
        "        \n",
        "        net.append(tf.nn.max_pool(net[-1], ksize=(1, s, s, 1),\n",
        "                              strides=(1, s, s, 1), padding='SAME',\n",
        "                              name='pool'))\n",
        "    \n",
        "    return net\n",
        "    \n",
        "  def _model_fn(features, labels, mode, params=None):\n",
        "    \"\"\"Model function for CNN.\"\"\"\n",
        "    \n",
        "    net = []\n",
        "    \n",
        "    # Input Layer\n",
        "    net.append(tf.reshape(features[\"x\"], [-1, HEIGHT, WIDTH, CHANNELS], name='input'))\n",
        "\n",
        "    # Convolutional Layers\n",
        "    net = _add_cnn(net, cnn_config)\n",
        "    \n",
        "    # Reshape\n",
        "    net.append(tf.keras.layers.Flatten()(net[-1]))\n",
        "    \n",
        "    # Dense Layers   \n",
        "    net = _add_fc(net, fc_config)\n",
        "    \n",
        "    # Dropout layer (on train graph)\n",
        "    if (mode == tf.estimator.ModeKeys.TRAIN):\n",
        "      net.append(tf.keras.layers.Dropout(rate=0.4)(net[-1]))\n",
        "    \n",
        "    # Logits Layer\n",
        "    net.append(tf.keras.layers.Dense(classes, name='logits')(net[-1]))\n",
        "    logits = net[-1]\n",
        "    \n",
        "    net_summary(net)\n",
        "    \n",
        "    # Compute predictions\n",
        "    predicted_classes = tf.argmax(input=logits, axis=1)\n",
        "    \n",
        "    predictions = {\n",
        "        'classes': predicted_classes[:, tf.newaxis],\n",
        "        'probabilities': tf.nn.softmax(logits, name=\"softmax_tensor\"),\n",
        "        'logits': logits,\n",
        "    }\n",
        "    \n",
        "    ###########\n",
        "    # PREDICT #\n",
        "    ###########\n",
        "    if mode == tf.estimator.ModeKeys.PREDICT:\n",
        "      return tf.estimator.EstimatorSpec(mode=mode,\n",
        "                                        predictions=predictions)\n",
        "\n",
        "    # Loss\n",
        "    loss = tf.losses.sparse_softmax_cross_entropy(labels=labels,\n",
        "                                                  logits=logits)\n",
        "\n",
        "    # Metrics\n",
        "    accuracy = tf.metrics.accuracy(labels=labels,\n",
        "                                   predictions=predicted_classes,\n",
        "                                   name='acc_op')\n",
        "    \n",
        "    metrics = {'accuracy': accuracy}\n",
        "    tf.summary.scalar('accuracy', accuracy[1])\n",
        "    \n",
        "    ########\n",
        "    # EVAL #\n",
        "    ########\n",
        "    if mode == tf.estimator.ModeKeys.EVAL:\n",
        "      return tf.estimator.EstimatorSpec(mode,\n",
        "                                        loss=loss, \n",
        "                                        eval_metric_ops=metrics)\n",
        "    \n",
        "    #########\n",
        "    # TRAIN #\n",
        "    #########\n",
        "    assert mode == tf.estimator.ModeKeys.TRAIN\n",
        "    \n",
        "    train_op = optimizer.minimize(loss, \n",
        "                                  global_step=tf.train.get_global_step())\n",
        "    return tf.estimator.EstimatorSpec(mode, loss=loss, train_op=train_op)\n",
        "  \n",
        "  return _model_fn"
      ],
      "execution_count": 0,
      "outputs": []
    },
    {
      "cell_type": "code",
      "metadata": {
        "id": "HSU9zgB6nxzm",
        "colab_type": "code",
        "colab": {}
      },
      "source": [
        "def make_train_input_fn(features,\n",
        "                        labels,\n",
        "                        batch_size=100,\n",
        "                        num_epochs=None,\n",
        "                        shuffle=False):\n",
        "\n",
        "  train_input_fn = tf.estimator.inputs.numpy_input_fn(x={\"x\": features},\n",
        "                                                      y=labels,\n",
        "                                                      batch_size=batch_size,\n",
        "                                                      num_epochs=num_epochs,\n",
        "                                                      shuffle=shuffle)\n",
        "  return train_input_fn\n",
        "\n",
        "def make_eval_input_fn(features,\n",
        "                       labels):\n",
        "  eval_input_fn = tf.estimator.inputs.numpy_input_fn(x={\"x\": features},\n",
        "                                                     y=labels,\n",
        "                                                     num_epochs=1,\n",
        "                                                     shuffle=False)\n",
        "  \n",
        "  return eval_input_fn"
      ],
      "execution_count": 0,
      "outputs": []
    },
    {
      "cell_type": "markdown",
      "metadata": {
        "id": "eEPGaPm0tiIO",
        "colab_type": "text"
      },
      "source": [
        "# Load Dataset"
      ]
    },
    {
      "cell_type": "code",
      "metadata": {
        "id": "d9rswkoVnW5g",
        "colab_type": "code",
        "colab": {}
      },
      "source": [
        "# Load training and eval data\n",
        "((train_data, train_labels),\n",
        " (eval_data, eval_labels)) = tf.keras.datasets.mnist.load_data()\n",
        "\n",
        "train_data = train_data/np.float32(255)\n",
        "train_labels = train_labels.astype(np.int32)  # not required\n",
        "\n",
        "eval_data = eval_data/np.float32(255)\n",
        "eval_labels = eval_labels.astype(np.int32)  # not required"
      ],
      "execution_count": 0,
      "outputs": []
    },
    {
      "cell_type": "markdown",
      "metadata": {
        "id": "Z67gPXnvtpHR",
        "colab_type": "text"
      },
      "source": [
        "# Create the Estimator"
      ]
    },
    {
      "cell_type": "code",
      "metadata": {
        "id": "Yvpal_2nqV3F",
        "colab_type": "code",
        "colab": {}
      },
      "source": [
        "learning_rate=0.1\n",
        "batch_size=100\n",
        "max_steps=20000"
      ],
      "execution_count": 0,
      "outputs": []
    },
    {
      "cell_type": "code",
      "metadata": {
        "id": "7OvbvjihxE_F",
        "colab_type": "code",
        "outputId": "9f6f1543-23b6-4a46-a73b-086ad1cb30fa",
        "colab": {
          "base_uri": "https://localhost:8080/",
          "height": 173
        }
      },
      "source": [
        "# Create the Estimator\n",
        "my_checkpointing_config = tf.estimator.RunConfig(\n",
        "    save_checkpoints_steps = 2000,\n",
        "    #keep_checkpoint_max = 10,\n",
        "    log_step_count_steps = 500,\n",
        "    tf_random_seed=2020         # for reproducibility\n",
        ")\n",
        "\n",
        "train_spec = tf.estimator.TrainSpec(\n",
        "    input_fn=make_train_input_fn(train_data,\n",
        "                                 train_labels,\n",
        "                                 batch_size=batch_size),\n",
        "    max_steps=max_steps)\n",
        "\n",
        "eval_spec = tf.estimator.EvalSpec(\n",
        "    input_fn=make_eval_input_fn(eval_data,\n",
        "                                eval_labels),\n",
        "    steps=None,          # use complete eval set\n",
        "    start_delay_secs=0,  # start immediately\n",
        "    throttle_secs=10)    # minimum delay between evaluations\n",
        "\n",
        "cnn_config = [ [5, 2, 32], [5, 2, 64] ]\n",
        "fc_config = [ 1024 ]\n",
        "optimizer = tf.train.AdagradOptimizer(learning_rate=learning_rate)\n",
        "classifier = tf.estimator.Estimator(\n",
        "  model_fn=make_model_fn(optimizer, cnn_config, fc_config),\n",
        "  model_dir=MODEL_DIR,\n",
        "  config=my_checkpointing_config\n",
        ")\n"
      ],
      "execution_count": 10,
      "outputs": [
        {
          "output_type": "stream",
          "text": [
            "INFO:tensorflow:Using config: {'_model_dir': '/tmp/mnist_convnet_model/20190507_155525', '_tf_random_seed': 2020, '_save_summary_steps': 100, '_save_checkpoints_steps': 2000, '_save_checkpoints_secs': None, '_session_config': allow_soft_placement: true\n",
            "graph_options {\n",
            "  rewrite_options {\n",
            "    meta_optimizer_iterations: ONE\n",
            "  }\n",
            "}\n",
            ", '_keep_checkpoint_max': 5, '_keep_checkpoint_every_n_hours': 10000, '_log_step_count_steps': 500, '_train_distribute': None, '_device_fn': None, '_protocol': None, '_eval_distribute': None, '_experimental_distribute': None, '_service': None, '_cluster_spec': <tensorflow.python.training.server_lib.ClusterSpec object at 0x7fdf67d82b70>, '_task_type': 'worker', '_task_id': 0, '_global_id_in_cluster': 0, '_master': '', '_evaluation_master': '', '_is_chief': True, '_num_ps_replicas': 0, '_num_worker_replicas': 1}\n",
            "WARNING:tensorflow:Estimator's model_fn (<function make_model_fn.<locals>._model_fn at 0x7fdf68420e18>) includes params argument, but params are not passed to Estimator.\n"
          ],
          "name": "stdout"
        }
      ]
    },
    {
      "cell_type": "markdown",
      "metadata": {
        "id": "6cQXA_4Pt4uQ",
        "colab_type": "text"
      },
      "source": [
        "# Start Training"
      ]
    },
    {
      "cell_type": "code",
      "metadata": {
        "id": "udsKrv2Kt0nq",
        "colab_type": "code",
        "outputId": "b26b7efa-d86a-4c33-82e4-596366aca3b1",
        "colab": {
          "base_uri": "https://localhost:8080/",
          "height": 5749
        }
      },
      "source": [
        "tf.estimator.train_and_evaluate(classifier, train_spec, eval_spec)"
      ],
      "execution_count": 11,
      "outputs": [
        {
          "output_type": "stream",
          "text": [
            "INFO:tensorflow:Not using Distribute Coordinator.\n",
            "INFO:tensorflow:Running training and evaluation locally (non-distributed).\n",
            "INFO:tensorflow:Start train and evaluate loop. The evaluate will happen after every checkpoint. Checkpoint frequency is determined based on RunConfig arguments: save_checkpoints_steps 2000 or save_checkpoints_secs None.\n",
            "WARNING:tensorflow:From /usr/local/lib/python3.6/dist-packages/tensorflow/python/framework/op_def_library.py:263: colocate_with (from tensorflow.python.framework.ops) is deprecated and will be removed in a future version.\n",
            "Instructions for updating:\n",
            "Colocations handled automatically by placer.\n",
            "WARNING:tensorflow:From /usr/local/lib/python3.6/dist-packages/tensorflow_estimator/python/estimator/inputs/queues/feeding_queue_runner.py:62: QueueRunner.__init__ (from tensorflow.python.training.queue_runner_impl) is deprecated and will be removed in a future version.\n",
            "Instructions for updating:\n",
            "To construct input pipelines, use the `tf.data` module.\n",
            "WARNING:tensorflow:From /usr/local/lib/python3.6/dist-packages/tensorflow_estimator/python/estimator/inputs/queues/feeding_functions.py:500: add_queue_runner (from tensorflow.python.training.queue_runner_impl) is deprecated and will be removed in a future version.\n",
            "Instructions for updating:\n",
            "To construct input pipelines, use the `tf.data` module.\n",
            "INFO:tensorflow:Calling model_fn.\n",
            "WARNING:tensorflow:From /usr/local/lib/python3.6/dist-packages/tensorflow/python/keras/layers/core.py:143: calling dropout (from tensorflow.python.ops.nn_ops) with keep_prob is deprecated and will be removed in a future version.\n",
            "Instructions for updating:\n",
            "Please use `rate` instead of `keep_prob`. Rate should be set to `rate = 1 - keep_prob`.\n",
            "1 input:0 (100, 28, 28, 1)\n",
            "2 conv/conv:0 (100, 28, 28, 32)\n",
            "3 conv/relu:0 (100, 28, 28, 32)\n",
            "4 conv/pool:0 (100, 14, 14, 32)\n",
            "5 conv_1/conv:0 (100, 14, 14, 64)\n",
            "6 conv_1/relu:0 (100, 14, 14, 64)\n",
            "7 conv_1/pool:0 (100, 7, 7, 64)\n",
            "8 flatten/Reshape:0 (100, 3136)\n",
            "9 dense/fc/Relu:0 (100, 1024)\n",
            "10 dropout/cond/Merge:0 (100, 1024)\n",
            "11 logits/BiasAdd:0 (100, 10)\n",
            "WARNING:tensorflow:From /usr/local/lib/python3.6/dist-packages/tensorflow/python/ops/losses/losses_impl.py:209: to_float (from tensorflow.python.ops.math_ops) is deprecated and will be removed in a future version.\n",
            "Instructions for updating:\n",
            "Use tf.cast instead.\n",
            "INFO:tensorflow:Done calling model_fn.\n",
            "INFO:tensorflow:Create CheckpointSaverHook.\n",
            "INFO:tensorflow:Graph was finalized.\n",
            "INFO:tensorflow:Running local_init_op.\n",
            "INFO:tensorflow:Done running local_init_op.\n",
            "WARNING:tensorflow:From /usr/local/lib/python3.6/dist-packages/tensorflow/python/training/monitored_session.py:809: start_queue_runners (from tensorflow.python.training.queue_runner_impl) is deprecated and will be removed in a future version.\n",
            "Instructions for updating:\n",
            "To construct input pipelines, use the `tf.data` module.\n",
            "INFO:tensorflow:Saving checkpoints for 0 into /tmp/mnist_convnet_model/20190507_155525/model.ckpt.\n",
            "INFO:tensorflow:loss = 2.4071455, step = 0\n",
            "INFO:tensorflow:global_step/sec: 186.735\n",
            "INFO:tensorflow:loss = 0.025022812, step = 500 (2.682 sec)\n",
            "INFO:tensorflow:global_step/sec: 202.619\n",
            "INFO:tensorflow:loss = 0.027145104, step = 1000 (2.468 sec)\n",
            "INFO:tensorflow:global_step/sec: 199.104\n",
            "INFO:tensorflow:loss = 0.04116641, step = 1500 (2.511 sec)\n",
            "INFO:tensorflow:Saving checkpoints for 2000 into /tmp/mnist_convnet_model/20190507_155525/model.ckpt.\n",
            "INFO:tensorflow:Calling model_fn.\n",
            "1 input:0 (?, 28, 28, 1)\n",
            "2 conv/conv:0 (?, 28, 28, 32)\n",
            "3 conv/relu:0 (?, 28, 28, 32)\n",
            "4 conv/pool:0 (?, 14, 14, 32)\n",
            "5 conv_1/conv:0 (?, 14, 14, 64)\n",
            "6 conv_1/relu:0 (?, 14, 14, 64)\n",
            "7 conv_1/pool:0 (?, 7, 7, 64)\n",
            "8 flatten/Reshape:0 (?, 3136)\n",
            "9 dense/fc/Relu:0 (?, 1024)\n",
            "10 logits/BiasAdd:0 (?, 10)\n",
            "INFO:tensorflow:Done calling model_fn.\n",
            "INFO:tensorflow:Starting evaluation at 2019-05-07T15:55:47Z\n",
            "INFO:tensorflow:Graph was finalized.\n",
            "WARNING:tensorflow:From /usr/local/lib/python3.6/dist-packages/tensorflow/python/training/saver.py:1266: checkpoint_exists (from tensorflow.python.training.checkpoint_management) is deprecated and will be removed in a future version.\n",
            "Instructions for updating:\n",
            "Use standard file APIs to check for files with this prefix.\n",
            "INFO:tensorflow:Restoring parameters from /tmp/mnist_convnet_model/20190507_155525/model.ckpt-2000\n",
            "INFO:tensorflow:Running local_init_op.\n",
            "INFO:tensorflow:Done running local_init_op.\n",
            "INFO:tensorflow:Finished evaluation at 2019-05-07-15:55:48\n",
            "INFO:tensorflow:Saving dict for global step 2000: accuracy = 0.9886, global_step = 2000, loss = 0.03251145\n",
            "INFO:tensorflow:Saving 'checkpoint_path' summary for global step 2000: /tmp/mnist_convnet_model/20190507_155525/model.ckpt-2000\n",
            "INFO:tensorflow:global_step/sec: 150.646\n",
            "INFO:tensorflow:loss = 0.014947695, step = 2000 (3.316 sec)\n",
            "INFO:tensorflow:global_step/sec: 201.157\n",
            "INFO:tensorflow:loss = 0.013107224, step = 2500 (2.486 sec)\n",
            "INFO:tensorflow:global_step/sec: 199.119\n",
            "INFO:tensorflow:loss = 0.0022271927, step = 3000 (2.515 sec)\n",
            "INFO:tensorflow:global_step/sec: 200.913\n",
            "INFO:tensorflow:loss = 0.0015018003, step = 3500 (2.486 sec)\n",
            "INFO:tensorflow:Saving checkpoints for 4000 into /tmp/mnist_convnet_model/20190507_155525/model.ckpt.\n",
            "INFO:tensorflow:Calling model_fn.\n",
            "1 input:0 (?, 28, 28, 1)\n",
            "2 conv/conv:0 (?, 28, 28, 32)\n",
            "3 conv/relu:0 (?, 28, 28, 32)\n",
            "4 conv/pool:0 (?, 14, 14, 32)\n",
            "5 conv_1/conv:0 (?, 14, 14, 64)\n",
            "6 conv_1/relu:0 (?, 14, 14, 64)\n",
            "7 conv_1/pool:0 (?, 7, 7, 64)\n",
            "8 flatten/Reshape:0 (?, 3136)\n",
            "9 dense/fc/Relu:0 (?, 1024)\n",
            "10 logits/BiasAdd:0 (?, 10)\n",
            "INFO:tensorflow:Done calling model_fn.\n",
            "INFO:tensorflow:Starting evaluation at 2019-05-07T15:55:58Z\n",
            "INFO:tensorflow:Graph was finalized.\n",
            "INFO:tensorflow:Restoring parameters from /tmp/mnist_convnet_model/20190507_155525/model.ckpt-4000\n",
            "INFO:tensorflow:Running local_init_op.\n",
            "INFO:tensorflow:Done running local_init_op.\n",
            "INFO:tensorflow:Finished evaluation at 2019-05-07-15:55:58\n",
            "INFO:tensorflow:Saving dict for global step 4000: accuracy = 0.9924, global_step = 4000, loss = 0.026097856\n",
            "INFO:tensorflow:Saving 'checkpoint_path' summary for global step 4000: /tmp/mnist_convnet_model/20190507_155525/model.ckpt-4000\n",
            "INFO:tensorflow:global_step/sec: 156.006\n",
            "INFO:tensorflow:loss = 0.00024872928, step = 4000 (3.204 sec)\n",
            "INFO:tensorflow:global_step/sec: 196.998\n",
            "INFO:tensorflow:loss = 0.0016000248, step = 4500 (2.540 sec)\n",
            "INFO:tensorflow:global_step/sec: 196.792\n",
            "INFO:tensorflow:loss = 0.0016469654, step = 5000 (2.541 sec)\n",
            "INFO:tensorflow:global_step/sec: 198.572\n",
            "INFO:tensorflow:loss = 0.0073614735, step = 5500 (2.520 sec)\n",
            "INFO:tensorflow:Saving checkpoints for 6000 into /tmp/mnist_convnet_model/20190507_155525/model.ckpt.\n",
            "INFO:tensorflow:Calling model_fn.\n",
            "1 input:0 (?, 28, 28, 1)\n",
            "2 conv/conv:0 (?, 28, 28, 32)\n",
            "3 conv/relu:0 (?, 28, 28, 32)\n",
            "4 conv/pool:0 (?, 14, 14, 32)\n",
            "5 conv_1/conv:0 (?, 14, 14, 64)\n",
            "6 conv_1/relu:0 (?, 14, 14, 64)\n",
            "7 conv_1/pool:0 (?, 7, 7, 64)\n",
            "8 flatten/Reshape:0 (?, 3136)\n",
            "9 dense/fc/Relu:0 (?, 1024)\n",
            "10 logits/BiasAdd:0 (?, 10)\n",
            "INFO:tensorflow:Done calling model_fn.\n",
            "INFO:tensorflow:Starting evaluation at 2019-05-07T15:56:09Z\n",
            "INFO:tensorflow:Graph was finalized.\n",
            "INFO:tensorflow:Restoring parameters from /tmp/mnist_convnet_model/20190507_155525/model.ckpt-6000\n",
            "INFO:tensorflow:Running local_init_op.\n",
            "INFO:tensorflow:Done running local_init_op.\n",
            "INFO:tensorflow:Finished evaluation at 2019-05-07-15:56:09\n",
            "INFO:tensorflow:Saving dict for global step 6000: accuracy = 0.9903, global_step = 6000, loss = 0.030279934\n",
            "INFO:tensorflow:Saving 'checkpoint_path' summary for global step 6000: /tmp/mnist_convnet_model/20190507_155525/model.ckpt-6000\n",
            "INFO:tensorflow:global_step/sec: 150.072\n",
            "INFO:tensorflow:loss = 0.0015195204, step = 6000 (3.329 sec)\n",
            "INFO:tensorflow:global_step/sec: 199.859\n",
            "INFO:tensorflow:loss = 0.00020994405, step = 6500 (2.502 sec)\n",
            "INFO:tensorflow:global_step/sec: 195.403\n",
            "INFO:tensorflow:loss = 8.6845896e-05, step = 7000 (2.558 sec)\n",
            "INFO:tensorflow:global_step/sec: 197.309\n",
            "INFO:tensorflow:loss = 0.00021290721, step = 7500 (2.537 sec)\n",
            "INFO:tensorflow:Saving checkpoints for 8000 into /tmp/mnist_convnet_model/20190507_155525/model.ckpt.\n",
            "INFO:tensorflow:Calling model_fn.\n",
            "1 input:0 (?, 28, 28, 1)\n",
            "2 conv/conv:0 (?, 28, 28, 32)\n",
            "3 conv/relu:0 (?, 28, 28, 32)\n",
            "4 conv/pool:0 (?, 14, 14, 32)\n",
            "5 conv_1/conv:0 (?, 14, 14, 64)\n",
            "6 conv_1/relu:0 (?, 14, 14, 64)\n",
            "7 conv_1/pool:0 (?, 7, 7, 64)\n",
            "8 flatten/Reshape:0 (?, 3136)\n",
            "9 dense/fc/Relu:0 (?, 1024)\n",
            "10 logits/BiasAdd:0 (?, 10)\n",
            "INFO:tensorflow:Done calling model_fn.\n",
            "INFO:tensorflow:Starting evaluation at 2019-05-07T15:56:20Z\n",
            "INFO:tensorflow:Graph was finalized.\n",
            "INFO:tensorflow:Restoring parameters from /tmp/mnist_convnet_model/20190507_155525/model.ckpt-8000\n",
            "INFO:tensorflow:Running local_init_op.\n",
            "INFO:tensorflow:Done running local_init_op.\n",
            "INFO:tensorflow:Finished evaluation at 2019-05-07-15:56:20\n",
            "INFO:tensorflow:Saving dict for global step 8000: accuracy = 0.9928, global_step = 8000, loss = 0.027189001\n",
            "INFO:tensorflow:Saving 'checkpoint_path' summary for global step 8000: /tmp/mnist_convnet_model/20190507_155525/model.ckpt-8000\n",
            "INFO:tensorflow:global_step/sec: 152.554\n",
            "INFO:tensorflow:loss = 0.00067522563, step = 8000 (3.274 sec)\n",
            "INFO:tensorflow:global_step/sec: 196.65\n",
            "INFO:tensorflow:loss = 0.0012735002, step = 8500 (2.543 sec)\n",
            "INFO:tensorflow:global_step/sec: 195.673\n",
            "INFO:tensorflow:loss = 0.00022420638, step = 9000 (2.559 sec)\n",
            "INFO:tensorflow:global_step/sec: 196.655\n",
            "INFO:tensorflow:loss = 6.260414e-05, step = 9500 (2.540 sec)\n",
            "INFO:tensorflow:Saving checkpoints for 10000 into /tmp/mnist_convnet_model/20190507_155525/model.ckpt.\n",
            "WARNING:tensorflow:From /usr/local/lib/python3.6/dist-packages/tensorflow/python/training/saver.py:966: remove_checkpoint (from tensorflow.python.training.checkpoint_management) is deprecated and will be removed in a future version.\n",
            "Instructions for updating:\n",
            "Use standard file APIs to delete files with this prefix.\n",
            "INFO:tensorflow:Calling model_fn.\n",
            "1 input:0 (?, 28, 28, 1)\n",
            "2 conv/conv:0 (?, 28, 28, 32)\n",
            "3 conv/relu:0 (?, 28, 28, 32)\n",
            "4 conv/pool:0 (?, 14, 14, 32)\n",
            "5 conv_1/conv:0 (?, 14, 14, 64)\n",
            "6 conv_1/relu:0 (?, 14, 14, 64)\n",
            "7 conv_1/pool:0 (?, 7, 7, 64)\n",
            "8 flatten/Reshape:0 (?, 3136)\n",
            "9 dense/fc/Relu:0 (?, 1024)\n",
            "10 logits/BiasAdd:0 (?, 10)\n",
            "INFO:tensorflow:Done calling model_fn.\n",
            "INFO:tensorflow:Starting evaluation at 2019-05-07T15:56:31Z\n",
            "INFO:tensorflow:Graph was finalized.\n",
            "INFO:tensorflow:Restoring parameters from /tmp/mnist_convnet_model/20190507_155525/model.ckpt-10000\n",
            "INFO:tensorflow:Running local_init_op.\n",
            "INFO:tensorflow:Done running local_init_op.\n",
            "INFO:tensorflow:Finished evaluation at 2019-05-07-15:56:31\n",
            "INFO:tensorflow:Saving dict for global step 10000: accuracy = 0.993, global_step = 10000, loss = 0.027695442\n",
            "INFO:tensorflow:Saving 'checkpoint_path' summary for global step 10000: /tmp/mnist_convnet_model/20190507_155525/model.ckpt-10000\n",
            "INFO:tensorflow:global_step/sec: 153.69\n",
            "INFO:tensorflow:loss = 2.230007e-05, step = 10000 (3.253 sec)\n",
            "INFO:tensorflow:global_step/sec: 197.581\n",
            "INFO:tensorflow:loss = 9.351623e-05, step = 10500 (2.534 sec)\n",
            "INFO:tensorflow:global_step/sec: 198.365\n",
            "INFO:tensorflow:loss = 0.00013163734, step = 11000 (2.521 sec)\n",
            "INFO:tensorflow:global_step/sec: 198.339\n",
            "INFO:tensorflow:loss = 0.00057667674, step = 11500 (2.517 sec)\n",
            "INFO:tensorflow:Saving checkpoints for 12000 into /tmp/mnist_convnet_model/20190507_155525/model.ckpt.\n",
            "INFO:tensorflow:Calling model_fn.\n",
            "1 input:0 (?, 28, 28, 1)\n",
            "2 conv/conv:0 (?, 28, 28, 32)\n",
            "3 conv/relu:0 (?, 28, 28, 32)\n",
            "4 conv/pool:0 (?, 14, 14, 32)\n",
            "5 conv_1/conv:0 (?, 14, 14, 64)\n",
            "6 conv_1/relu:0 (?, 14, 14, 64)\n",
            "7 conv_1/pool:0 (?, 7, 7, 64)\n",
            "8 flatten/Reshape:0 (?, 3136)\n",
            "9 dense/fc/Relu:0 (?, 1024)\n",
            "10 logits/BiasAdd:0 (?, 10)\n",
            "INFO:tensorflow:Done calling model_fn.\n",
            "INFO:tensorflow:Starting evaluation at 2019-05-07T15:56:41Z\n",
            "INFO:tensorflow:Graph was finalized.\n",
            "INFO:tensorflow:Restoring parameters from /tmp/mnist_convnet_model/20190507_155525/model.ckpt-12000\n",
            "INFO:tensorflow:Running local_init_op.\n",
            "INFO:tensorflow:Done running local_init_op.\n",
            "INFO:tensorflow:Finished evaluation at 2019-05-07-15:56:42\n",
            "INFO:tensorflow:Saving dict for global step 12000: accuracy = 0.9922, global_step = 12000, loss = 0.029528385\n",
            "INFO:tensorflow:Saving 'checkpoint_path' summary for global step 12000: /tmp/mnist_convnet_model/20190507_155525/model.ckpt-12000\n",
            "INFO:tensorflow:global_step/sec: 154.5\n",
            "INFO:tensorflow:loss = 0.00010177449, step = 12000 (3.235 sec)\n",
            "INFO:tensorflow:global_step/sec: 198.008\n",
            "INFO:tensorflow:loss = 2.8996967e-05, step = 12500 (2.530 sec)\n",
            "INFO:tensorflow:global_step/sec: 196.063\n",
            "INFO:tensorflow:loss = 1.2225315e-05, step = 13000 (2.547 sec)\n",
            "INFO:tensorflow:global_step/sec: 193.849\n",
            "INFO:tensorflow:loss = 5.3421958e-05, step = 13500 (2.582 sec)\n",
            "INFO:tensorflow:Saving checkpoints for 14000 into /tmp/mnist_convnet_model/20190507_155525/model.ckpt.\n",
            "INFO:tensorflow:Calling model_fn.\n",
            "1 input:0 (?, 28, 28, 1)\n",
            "2 conv/conv:0 (?, 28, 28, 32)\n",
            "3 conv/relu:0 (?, 28, 28, 32)\n",
            "4 conv/pool:0 (?, 14, 14, 32)\n",
            "5 conv_1/conv:0 (?, 14, 14, 64)\n",
            "6 conv_1/relu:0 (?, 14, 14, 64)\n",
            "7 conv_1/pool:0 (?, 7, 7, 64)\n",
            "8 flatten/Reshape:0 (?, 3136)\n",
            "9 dense/fc/Relu:0 (?, 1024)\n",
            "10 logits/BiasAdd:0 (?, 10)\n",
            "INFO:tensorflow:Done calling model_fn.\n",
            "INFO:tensorflow:Starting evaluation at 2019-05-07T15:56:52Z\n",
            "INFO:tensorflow:Graph was finalized.\n",
            "INFO:tensorflow:Restoring parameters from /tmp/mnist_convnet_model/20190507_155525/model.ckpt-14000\n",
            "INFO:tensorflow:Running local_init_op.\n",
            "INFO:tensorflow:Done running local_init_op.\n",
            "INFO:tensorflow:Finished evaluation at 2019-05-07-15:56:53\n",
            "INFO:tensorflow:Saving dict for global step 14000: accuracy = 0.9929, global_step = 14000, loss = 0.030556563\n",
            "INFO:tensorflow:Saving 'checkpoint_path' summary for global step 14000: /tmp/mnist_convnet_model/20190507_155525/model.ckpt-14000\n",
            "INFO:tensorflow:global_step/sec: 144.169\n",
            "INFO:tensorflow:loss = 8.114677e-05, step = 14000 (3.464 sec)\n",
            "INFO:tensorflow:global_step/sec: 194.087\n",
            "INFO:tensorflow:loss = 0.00032142724, step = 14500 (2.577 sec)\n",
            "INFO:tensorflow:global_step/sec: 188.885\n",
            "INFO:tensorflow:loss = 6.821617e-05, step = 15000 (2.647 sec)\n",
            "INFO:tensorflow:global_step/sec: 196.057\n",
            "INFO:tensorflow:loss = 1.871967e-05, step = 15500 (2.550 sec)\n",
            "INFO:tensorflow:Saving checkpoints for 16000 into /tmp/mnist_convnet_model/20190507_155525/model.ckpt.\n",
            "INFO:tensorflow:Calling model_fn.\n",
            "1 input:0 (?, 28, 28, 1)\n",
            "2 conv/conv:0 (?, 28, 28, 32)\n",
            "3 conv/relu:0 (?, 28, 28, 32)\n",
            "4 conv/pool:0 (?, 14, 14, 32)\n",
            "5 conv_1/conv:0 (?, 14, 14, 64)\n",
            "6 conv_1/relu:0 (?, 14, 14, 64)\n",
            "7 conv_1/pool:0 (?, 7, 7, 64)\n",
            "8 flatten/Reshape:0 (?, 3136)\n",
            "9 dense/fc/Relu:0 (?, 1024)\n",
            "10 logits/BiasAdd:0 (?, 10)\n",
            "INFO:tensorflow:Done calling model_fn.\n",
            "INFO:tensorflow:Starting evaluation at 2019-05-07T15:57:04Z\n",
            "INFO:tensorflow:Graph was finalized.\n",
            "INFO:tensorflow:Restoring parameters from /tmp/mnist_convnet_model/20190507_155525/model.ckpt-16000\n",
            "INFO:tensorflow:Running local_init_op.\n",
            "INFO:tensorflow:Done running local_init_op.\n",
            "INFO:tensorflow:Finished evaluation at 2019-05-07-15:57:04\n",
            "INFO:tensorflow:Saving dict for global step 16000: accuracy = 0.9928, global_step = 16000, loss = 0.030263629\n",
            "INFO:tensorflow:Saving 'checkpoint_path' summary for global step 16000: /tmp/mnist_convnet_model/20190507_155525/model.ckpt-16000\n",
            "INFO:tensorflow:global_step/sec: 151.487\n",
            "INFO:tensorflow:loss = 7.831486e-06, step = 16000 (3.300 sec)\n",
            "INFO:tensorflow:global_step/sec: 191.35\n",
            "INFO:tensorflow:loss = 3.8525206e-05, step = 16500 (2.615 sec)\n",
            "INFO:tensorflow:global_step/sec: 195.014\n",
            "INFO:tensorflow:loss = 5.7156136e-05, step = 17000 (2.563 sec)\n",
            "INFO:tensorflow:global_step/sec: 194.017\n",
            "INFO:tensorflow:loss = 0.00021527927, step = 17500 (2.581 sec)\n",
            "INFO:tensorflow:Saving checkpoints for 18000 into /tmp/mnist_convnet_model/20190507_155525/model.ckpt.\n",
            "INFO:tensorflow:Calling model_fn.\n",
            "1 input:0 (?, 28, 28, 1)\n",
            "2 conv/conv:0 (?, 28, 28, 32)\n",
            "3 conv/relu:0 (?, 28, 28, 32)\n",
            "4 conv/pool:0 (?, 14, 14, 32)\n",
            "5 conv_1/conv:0 (?, 14, 14, 64)\n",
            "6 conv_1/relu:0 (?, 14, 14, 64)\n",
            "7 conv_1/pool:0 (?, 7, 7, 64)\n",
            "8 flatten/Reshape:0 (?, 3136)\n",
            "9 dense/fc/Relu:0 (?, 1024)\n",
            "10 logits/BiasAdd:0 (?, 10)\n",
            "INFO:tensorflow:Done calling model_fn.\n",
            "INFO:tensorflow:Starting evaluation at 2019-05-07T15:57:15Z\n",
            "INFO:tensorflow:Graph was finalized.\n",
            "INFO:tensorflow:Restoring parameters from /tmp/mnist_convnet_model/20190507_155525/model.ckpt-18000\n",
            "INFO:tensorflow:Running local_init_op.\n",
            "INFO:tensorflow:Done running local_init_op.\n",
            "INFO:tensorflow:Finished evaluation at 2019-05-07-15:57:15\n",
            "INFO:tensorflow:Saving dict for global step 18000: accuracy = 0.9929, global_step = 18000, loss = 0.030979078\n",
            "INFO:tensorflow:Saving 'checkpoint_path' summary for global step 18000: /tmp/mnist_convnet_model/20190507_155525/model.ckpt-18000\n",
            "INFO:tensorflow:global_step/sec: 150.506\n",
            "INFO:tensorflow:loss = 5.039034e-05, step = 18000 (3.318 sec)\n",
            "INFO:tensorflow:global_step/sec: 190.306\n",
            "INFO:tensorflow:loss = 1.4354553e-05, step = 18500 (2.629 sec)\n",
            "INFO:tensorflow:global_step/sec: 194.062\n",
            "INFO:tensorflow:loss = 5.731835e-06, step = 19000 (2.579 sec)\n",
            "INFO:tensorflow:global_step/sec: 197.174\n",
            "INFO:tensorflow:loss = 3.0275669e-05, step = 19500 (2.532 sec)\n",
            "INFO:tensorflow:Saving checkpoints for 20000 into /tmp/mnist_convnet_model/20190507_155525/model.ckpt.\n",
            "INFO:tensorflow:Calling model_fn.\n",
            "1 input:0 (?, 28, 28, 1)\n",
            "2 conv/conv:0 (?, 28, 28, 32)\n",
            "3 conv/relu:0 (?, 28, 28, 32)\n",
            "4 conv/pool:0 (?, 14, 14, 32)\n",
            "5 conv_1/conv:0 (?, 14, 14, 64)\n",
            "6 conv_1/relu:0 (?, 14, 14, 64)\n",
            "7 conv_1/pool:0 (?, 7, 7, 64)\n",
            "8 flatten/Reshape:0 (?, 3136)\n",
            "9 dense/fc/Relu:0 (?, 1024)\n",
            "10 logits/BiasAdd:0 (?, 10)\n",
            "INFO:tensorflow:Done calling model_fn.\n",
            "INFO:tensorflow:Starting evaluation at 2019-05-07T15:57:26Z\n",
            "INFO:tensorflow:Graph was finalized.\n",
            "INFO:tensorflow:Restoring parameters from /tmp/mnist_convnet_model/20190507_155525/model.ckpt-20000\n",
            "INFO:tensorflow:Running local_init_op.\n",
            "INFO:tensorflow:Done running local_init_op.\n",
            "INFO:tensorflow:Finished evaluation at 2019-05-07-15:57:26\n",
            "INFO:tensorflow:Saving dict for global step 20000: accuracy = 0.993, global_step = 20000, loss = 0.03188816\n",
            "INFO:tensorflow:Saving 'checkpoint_path' summary for global step 20000: /tmp/mnist_convnet_model/20190507_155525/model.ckpt-20000\n",
            "INFO:tensorflow:Loss for final step: 6.3665775e-06.\n"
          ],
          "name": "stdout"
        },
        {
          "output_type": "execute_result",
          "data": {
            "text/plain": [
              "({'accuracy': 0.993, 'global_step': 20000, 'loss': 0.03188816}, [])"
            ]
          },
          "metadata": {
            "tags": []
          },
          "execution_count": 11
        }
      ]
    },
    {
      "cell_type": "markdown",
      "metadata": {
        "id": "P9ckpVCFwe1n",
        "colab_type": "text"
      },
      "source": [
        "# [optional] Stop Tensorboard"
      ]
    },
    {
      "cell_type": "code",
      "metadata": {
        "id": "YfnpAQa6vhqZ",
        "colab_type": "code",
        "colab": {}
      },
      "source": [
        "#!pkill tensorboard\n",
        "#!pkill ngrok"
      ],
      "execution_count": 0,
      "outputs": []
    },
    {
      "cell_type": "code",
      "metadata": {
        "id": "Iku6_lE5AYQc",
        "colab_type": "code",
        "colab": {}
      },
      "source": [
        ""
      ],
      "execution_count": 0,
      "outputs": []
    }
  ]
}