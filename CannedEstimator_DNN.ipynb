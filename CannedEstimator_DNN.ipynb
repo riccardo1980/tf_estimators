{
 "cells": [
  {
   "cell_type": "markdown",
   "metadata": {},
   "source": [
    "# DNN Canned Estimator"
   ]
  },
  {
   "cell_type": "code",
   "execution_count": 1,
   "metadata": {},
   "outputs": [
    {
     "name": "stderr",
     "output_type": "stream",
     "text": [
      "/usr/local/envs/py2env/lib/python2.7/site-packages/h5py/__init__.py:36: FutureWarning: Conversion of the second argument of issubdtype from `float` to `np.floating` is deprecated. In future, it will be treated as `np.float64 == np.dtype(float).type`.\n",
      "  from ._conv import register_converters as _register_converters\n"
     ]
    }
   ],
   "source": [
    "from __future__ import absolute_import\n",
    "from __future__ import division\n",
    "from __future__ import print_function\n",
    "\n",
    "import tensorflow as tf"
   ]
  },
  {
   "cell_type": "code",
   "execution_count": 2,
   "metadata": {},
   "outputs": [],
   "source": [
    "MODEL_DIR = './model/iris_DNN'"
   ]
  },
  {
   "cell_type": "code",
   "execution_count": 3,
   "metadata": {},
   "outputs": [],
   "source": [
    "TRAIN_URL = \"http://download.tensorflow.org/data/iris_training.csv\"\n",
    "TEST_URL = \"http://download.tensorflow.org/data/iris_test.csv\"\n",
    "\n",
    "CSV_COLUMN_NAMES = ['SepalLength', 'SepalWidth',\n",
    "                    'PetalLength', 'PetalWidth', 'Species']\n",
    "SPECIES = ['Setosa', 'Versicolor', 'Virginica']\n",
    "\n",
    "def maybe_download():\n",
    "  train_path = tf.keras.utils.get_file(TRAIN_URL.split('/')[-1], TRAIN_URL)\n",
    "  test_path = tf.keras.utils.get_file(TEST_URL.split('/')[-1], TEST_URL)\n",
    "\n",
    "  return train_path, test_path\n",
    "\n",
    "def load_data(y_name='Species'):\n",
    "  \"\"\"Returns the iris dataset as (train_x, train_y), (test_x, test_y).\"\"\"\n",
    "  import pandas as pd\n",
    "  train_path, test_path = maybe_download()\n",
    "\n",
    "  train = pd.read_csv(train_path, names=CSV_COLUMN_NAMES, header=0)\n",
    "  train_x, train_y = train, train.pop(y_name)\n",
    "\n",
    "  test = pd.read_csv(test_path, names=CSV_COLUMN_NAMES, header=0)\n",
    "  test_x, test_y = test, test.pop(y_name)\n",
    "\n",
    "  return (train_x, train_y), (test_x, test_y)"
   ]
  },
  {
   "cell_type": "code",
   "execution_count": 4,
   "metadata": {},
   "outputs": [],
   "source": [
    "def make_train_input_fn(features, labels, batch_size):\n",
    "  def train_input_fn():\n",
    "    \"\"\"An input function for training\"\"\"\n",
    "    # Convert the inputs to a Dataset.\n",
    "    dataset = tf.data.Dataset.from_tensor_slices((dict(features), labels))\n",
    "\n",
    "    # Shuffle, repeat, and batch the examples.\n",
    "    dataset = dataset.shuffle(1000).repeat().batch(batch_size)\n",
    "    \n",
    "    # Return the dataset.\n",
    "    return dataset\n",
    "  return train_input_fn\n",
    "\n",
    "def make_eval_input_fn(features, labels=None, batch_size=100):\n",
    "  def eval_input_fn():\n",
    "    \"\"\"An input function for evaluation or prediction\"\"\"\n",
    "    if labels is None:\n",
    "        # No labels, use only features.\n",
    "        inputs = dict(features)\n",
    "    else:\n",
    "        inputs = (dict(features), labels)\n",
    "\n",
    "    # Convert the inputs to a Dataset.\n",
    "    dataset = tf.data.Dataset.from_tensor_slices(inputs)\n",
    "\n",
    "    # Batch the examples\n",
    "    assert batch_size is not None, \"batch_size must not be None\"\n",
    "    dataset = dataset.batch(batch_size)\n",
    "\n",
    "    # Return the dataset.\n",
    "    return dataset\n",
    "  \n",
    "  return eval_input_fn"
   ]
  },
  {
   "cell_type": "markdown",
   "metadata": {},
   "source": [
    "## Training"
   ]
  },
  {
   "cell_type": "code",
   "execution_count": 5,
   "metadata": {},
   "outputs": [],
   "source": [
    "! rm -rf $MODEL_DIR"
   ]
  },
  {
   "cell_type": "code",
   "execution_count": 6,
   "metadata": {},
   "outputs": [],
   "source": [
    "# Fetch the data\n",
    "(train_x, train_y), (test_x, test_y) = load_data()\n",
    "\n",
    "# Feature columns describe how to use the input.\n",
    "my_feature_columns = []\n",
    "for key in train_x.keys():\n",
    "  my_feature_columns.append(tf.feature_column.numeric_column(key=key))"
   ]
  },
  {
   "cell_type": "code",
   "execution_count": 7,
   "metadata": {},
   "outputs": [
    {
     "name": "stdout",
     "output_type": "stream",
     "text": [
      "INFO:tensorflow:Using config: {'_save_checkpoints_secs': None, '_session_config': None, '_keep_checkpoint_max': 5, '_task_type': 'worker', '_train_distribute': None, '_is_chief': True, '_cluster_spec': <tensorflow.python.training.server_lib.ClusterSpec object at 0x7f9e72d9df50>, '_evaluation_master': '', '_save_checkpoints_steps': 2000, '_keep_checkpoint_every_n_hours': 10000, '_service': None, '_num_ps_replicas': 0, '_tf_random_seed': 2020, '_master': '', '_num_worker_replicas': 1, '_task_id': 0, '_log_step_count_steps': 500, '_model_dir': './model/iris_DNN', '_global_id_in_cluster': 0, '_save_summary_steps': 100}\n"
     ]
    }
   ],
   "source": [
    "my_checkpointing_config = tf.estimator.RunConfig(\n",
    "    save_checkpoints_steps = 2000,\n",
    "    #keep_checkpoint_max = 10,\n",
    "    log_step_count_steps = 500,\n",
    "    tf_random_seed=2020         # for reproducibility\n",
    ")\n",
    "\n",
    "# Build 2 hidden layer DNN with 10, 10 units respectively.\n",
    "classifier = tf.estimator.DNNClassifier(\n",
    "  feature_columns=my_feature_columns,\n",
    "  # Two hidden layers of 10 nodes each.\n",
    "  hidden_units=[10, 10],\n",
    "  # The model must choose between 3 classes.\n",
    "  n_classes=3,\n",
    "  model_dir=MODEL_DIR,\n",
    "  config=my_checkpointing_config\n",
    ")"
   ]
  },
  {
   "cell_type": "code",
   "execution_count": 8,
   "metadata": {},
   "outputs": [
    {
     "name": "stdout",
     "output_type": "stream",
     "text": [
      "INFO:tensorflow:Running training and evaluation locally (non-distributed).\n",
      "INFO:tensorflow:Start train and evaluate loop. The evaluate will happen after 10 secs (eval_spec.throttle_secs) or training is finished.\n",
      "INFO:tensorflow:Calling model_fn.\n",
      "INFO:tensorflow:Done calling model_fn.\n",
      "INFO:tensorflow:Create CheckpointSaverHook.\n",
      "INFO:tensorflow:Graph was finalized.\n",
      "INFO:tensorflow:Running local_init_op.\n",
      "INFO:tensorflow:Done running local_init_op.\n",
      "INFO:tensorflow:Saving checkpoints for 1 into ./model/iris_DNN/model.ckpt.\n",
      "INFO:tensorflow:loss = 125.53413, step = 1\n",
      "INFO:tensorflow:global_step/sec: 479.369\n",
      "INFO:tensorflow:loss = 7.2349, step = 501 (1.046 sec)\n",
      "INFO:tensorflow:global_step/sec: 492.324\n",
      "INFO:tensorflow:loss = 6.1838913, step = 1001 (1.015 sec)\n",
      "INFO:tensorflow:global_step/sec: 488.15\n",
      "INFO:tensorflow:loss = 5.1144276, step = 1501 (1.025 sec)\n",
      "INFO:tensorflow:Saving checkpoints for 2001 into ./model/iris_DNN/model.ckpt.\n",
      "INFO:tensorflow:global_step/sec: 559.895\n",
      "INFO:tensorflow:loss = 5.339514, step = 2001 (0.891 sec)\n",
      "INFO:tensorflow:global_step/sec: 748.566\n",
      "INFO:tensorflow:loss = 4.6362433, step = 2501 (0.668 sec)\n",
      "INFO:tensorflow:global_step/sec: 743.747\n",
      "INFO:tensorflow:loss = 5.3902493, step = 3001 (0.673 sec)\n",
      "INFO:tensorflow:global_step/sec: 736.559\n",
      "INFO:tensorflow:loss = 5.088688, step = 3501 (0.678 sec)\n",
      "INFO:tensorflow:Saving checkpoints for 4001 into ./model/iris_DNN/model.ckpt.\n",
      "INFO:tensorflow:global_step/sec: 688.255\n",
      "INFO:tensorflow:loss = 3.229153, step = 4001 (0.728 sec)\n",
      "INFO:tensorflow:global_step/sec: 678.938\n",
      "INFO:tensorflow:loss = 4.4212565, step = 4501 (0.739 sec)\n",
      "INFO:tensorflow:global_step/sec: 694.307\n",
      "INFO:tensorflow:loss = 4.2133, step = 5001 (0.718 sec)\n",
      "INFO:tensorflow:global_step/sec: 686.797\n",
      "INFO:tensorflow:loss = 6.323968, step = 5501 (0.728 sec)\n",
      "INFO:tensorflow:Saving checkpoints for 5831 into ./model/iris_DNN/model.ckpt.\n",
      "INFO:tensorflow:Loss for final step: 2.326289.\n",
      "INFO:tensorflow:Calling model_fn.\n",
      "INFO:tensorflow:Done calling model_fn.\n",
      "INFO:tensorflow:Starting evaluation at 2018-11-12-19:45:18\n",
      "INFO:tensorflow:Graph was finalized.\n",
      "INFO:tensorflow:Restoring parameters from ./model/iris_DNN/model.ckpt-5831\n",
      "INFO:tensorflow:Running local_init_op.\n",
      "INFO:tensorflow:Done running local_init_op.\n",
      "INFO:tensorflow:Finished evaluation at 2018-11-12-19:45:18\n",
      "INFO:tensorflow:Saving dict for global step 5831: accuracy = 0.96666664, average_loss = 0.07043472, global_step = 5831, loss = 2.1130416\n",
      "INFO:tensorflow:Calling model_fn.\n",
      "INFO:tensorflow:Done calling model_fn.\n",
      "INFO:tensorflow:Create CheckpointSaverHook.\n",
      "INFO:tensorflow:Graph was finalized.\n",
      "INFO:tensorflow:Restoring parameters from ./model/iris_DNN/model.ckpt-5831\n",
      "INFO:tensorflow:Running local_init_op.\n",
      "INFO:tensorflow:Done running local_init_op.\n",
      "INFO:tensorflow:Saving checkpoints for 5832 into ./model/iris_DNN/model.ckpt.\n",
      "INFO:tensorflow:loss = 1.7126621, step = 5832\n",
      "INFO:tensorflow:global_step/sec: 596.66\n",
      "INFO:tensorflow:loss = 4.6472154, step = 6332 (0.841 sec)\n",
      "INFO:tensorflow:global_step/sec: 736.989\n",
      "INFO:tensorflow:loss = 4.397008, step = 6832 (0.678 sec)\n",
      "INFO:tensorflow:global_step/sec: 752.981\n",
      "INFO:tensorflow:loss = 3.7113574, step = 7332 (0.664 sec)\n",
      "INFO:tensorflow:Saving checkpoints for 7832 into ./model/iris_DNN/model.ckpt.\n",
      "INFO:tensorflow:global_step/sec: 571.604\n",
      "INFO:tensorflow:loss = 4.118781, step = 7832 (0.879 sec)\n",
      "INFO:tensorflow:global_step/sec: 738.094\n",
      "INFO:tensorflow:loss = 3.5821044, step = 8332 (0.675 sec)\n",
      "INFO:tensorflow:global_step/sec: 762.085\n",
      "INFO:tensorflow:loss = 4.297925, step = 8832 (0.656 sec)\n",
      "INFO:tensorflow:global_step/sec: 734.652\n",
      "INFO:tensorflow:loss = 4.1750383, step = 9332 (0.681 sec)\n",
      "INFO:tensorflow:Saving checkpoints for 9832 into ./model/iris_DNN/model.ckpt.\n",
      "INFO:tensorflow:global_step/sec: 691.548\n",
      "INFO:tensorflow:loss = 2.6748898, step = 9832 (0.725 sec)\n",
      "INFO:tensorflow:global_step/sec: 740.943\n",
      "INFO:tensorflow:loss = 3.6476035, step = 10332 (0.673 sec)\n",
      "INFO:tensorflow:global_step/sec: 720.637\n",
      "INFO:tensorflow:loss = 3.5912385, step = 10832 (0.693 sec)\n",
      "INFO:tensorflow:global_step/sec: 683.564\n",
      "INFO:tensorflow:loss = 5.3467298, step = 11332 (0.733 sec)\n",
      "INFO:tensorflow:Saving checkpoints for 11832 into ./model/iris_DNN/model.ckpt.\n",
      "INFO:tensorflow:global_step/sec: 645.896\n",
      "INFO:tensorflow:loss = 2.8370538, step = 11832 (0.777 sec)\n",
      "INFO:tensorflow:global_step/sec: 735.868\n",
      "INFO:tensorflow:loss = 2.7181346, step = 12332 (0.675 sec)\n",
      "INFO:tensorflow:Saving checkpoints for 12333 into ./model/iris_DNN/model.ckpt.\n",
      "INFO:tensorflow:Loss for final step: 2.5080395.\n",
      "INFO:tensorflow:Calling model_fn.\n",
      "INFO:tensorflow:Done calling model_fn.\n",
      "INFO:tensorflow:Starting evaluation at 2018-11-12-19:45:29\n",
      "INFO:tensorflow:Graph was finalized.\n",
      "INFO:tensorflow:Restoring parameters from ./model/iris_DNN/model.ckpt-12333\n",
      "INFO:tensorflow:Running local_init_op.\n",
      "INFO:tensorflow:Done running local_init_op.\n",
      "INFO:tensorflow:Finished evaluation at 2018-11-12-19:45:29\n",
      "INFO:tensorflow:Saving dict for global step 12333: accuracy = 0.96666664, average_loss = 0.08451755, global_step = 12333, loss = 2.5355265\n",
      "INFO:tensorflow:Calling model_fn.\n",
      "INFO:tensorflow:Done calling model_fn.\n",
      "INFO:tensorflow:Create CheckpointSaverHook.\n",
      "INFO:tensorflow:Graph was finalized.\n",
      "INFO:tensorflow:Restoring parameters from ./model/iris_DNN/model.ckpt-12333\n",
      "INFO:tensorflow:Running local_init_op.\n",
      "INFO:tensorflow:Done running local_init_op.\n",
      "INFO:tensorflow:Saving checkpoints for 12334 into ./model/iris_DNN/model.ckpt.\n",
      "INFO:tensorflow:loss = 1.087285, step = 12334\n",
      "INFO:tensorflow:global_step/sec: 591.414\n",
      "INFO:tensorflow:loss = 3.8529317, step = 12834 (0.847 sec)\n",
      "INFO:tensorflow:global_step/sec: 736.574\n",
      "INFO:tensorflow:loss = 3.6735668, step = 13334 (0.680 sec)\n",
      "INFO:tensorflow:global_step/sec: 737.973\n",
      "INFO:tensorflow:loss = 2.9890318, step = 13834 (0.677 sec)\n",
      "INFO:tensorflow:Saving checkpoints for 14334 into ./model/iris_DNN/model.ckpt.\n",
      "INFO:tensorflow:global_step/sec: 523.101\n",
      "INFO:tensorflow:loss = 3.5064187, step = 14334 (0.961 sec)\n",
      "INFO:tensorflow:global_step/sec: 676.168\n",
      "INFO:tensorflow:loss = 3.0301845, step = 14834 (0.735 sec)\n",
      "INFO:tensorflow:global_step/sec: 712.34\n",
      "INFO:tensorflow:loss = 3.622627, step = 15334 (0.702 sec)\n",
      "INFO:tensorflow:global_step/sec: 669.374\n",
      "INFO:tensorflow:loss = 3.5306334, step = 15834 (0.747 sec)\n",
      "INFO:tensorflow:Saving checkpoints for 16334 into ./model/iris_DNN/model.ckpt.\n",
      "INFO:tensorflow:global_step/sec: 654.213\n",
      "INFO:tensorflow:loss = 2.3599553, step = 16334 (0.766 sec)\n",
      "INFO:tensorflow:global_step/sec: 722.099\n",
      "INFO:tensorflow:loss = 3.1475508, step = 16834 (0.689 sec)\n",
      "INFO:tensorflow:global_step/sec: 742.6\n",
      "INFO:tensorflow:loss = 3.168942, step = 17334 (0.673 sec)\n",
      "INFO:tensorflow:global_step/sec: 742.755\n",
      "INFO:tensorflow:loss = 4.7072215, step = 17834 (0.674 sec)\n",
      "INFO:tensorflow:Saving checkpoints for 18334 into ./model/iris_DNN/model.ckpt.\n",
      "INFO:tensorflow:global_step/sec: 687.506\n",
      "INFO:tensorflow:loss = 2.4390254, step = 18334 (0.730 sec)\n",
      "INFO:tensorflow:Saving checkpoints for 18713 into ./model/iris_DNN/model.ckpt.\n",
      "INFO:tensorflow:Loss for final step: 1.0165504.\n",
      "INFO:tensorflow:Calling model_fn.\n",
      "INFO:tensorflow:Done calling model_fn.\n",
      "INFO:tensorflow:Starting evaluation at 2018-11-12-19:45:40\n",
      "INFO:tensorflow:Graph was finalized.\n",
      "INFO:tensorflow:Restoring parameters from ./model/iris_DNN/model.ckpt-18713\n",
      "INFO:tensorflow:Running local_init_op.\n",
      "INFO:tensorflow:Done running local_init_op.\n",
      "INFO:tensorflow:Finished evaluation at 2018-11-12-19:45:40\n",
      "INFO:tensorflow:Saving dict for global step 18713: accuracy = 0.96666664, average_loss = 0.11151231, global_step = 18713, loss = 3.3453693\n",
      "INFO:tensorflow:Calling model_fn.\n",
      "INFO:tensorflow:Done calling model_fn.\n",
      "INFO:tensorflow:Create CheckpointSaverHook.\n",
      "INFO:tensorflow:Graph was finalized.\n",
      "INFO:tensorflow:Restoring parameters from ./model/iris_DNN/model.ckpt-18713\n",
      "INFO:tensorflow:Running local_init_op.\n",
      "INFO:tensorflow:Done running local_init_op.\n",
      "INFO:tensorflow:Saving checkpoints for 18714 into ./model/iris_DNN/model.ckpt.\n",
      "INFO:tensorflow:loss = 1.0711567, step = 18714\n",
      "INFO:tensorflow:global_step/sec: 598.657\n",
      "INFO:tensorflow:loss = 3.3475463, step = 19214 (0.837 sec)\n",
      "INFO:tensorflow:global_step/sec: 727.367\n",
      "INFO:tensorflow:loss = 3.2360218, step = 19714 (0.688 sec)\n"
     ]
    },
    {
     "name": "stdout",
     "output_type": "stream",
     "text": [
      "INFO:tensorflow:Saving checkpoints for 20000 into ./model/iris_DNN/model.ckpt.\n",
      "INFO:tensorflow:Loss for final step: 1.2145597.\n",
      "INFO:tensorflow:Calling model_fn.\n",
      "INFO:tensorflow:Done calling model_fn.\n",
      "INFO:tensorflow:Starting evaluation at 2018-11-12-19:45:43\n",
      "INFO:tensorflow:Graph was finalized.\n",
      "INFO:tensorflow:Restoring parameters from ./model/iris_DNN/model.ckpt-20000\n",
      "INFO:tensorflow:Running local_init_op.\n",
      "INFO:tensorflow:Done running local_init_op.\n",
      "INFO:tensorflow:Finished evaluation at 2018-11-12-19:45:44\n",
      "INFO:tensorflow:Saving dict for global step 20000: accuracy = 0.96666664, average_loss = 0.11396465, global_step = 20000, loss = 3.4189394\n"
     ]
    }
   ],
   "source": [
    "# Train the Model.\n",
    "#classifier.train(\n",
    "#  input_fn=make_train_input_fn(train_x, train_y, 100),\n",
    "#  steps=20000)\n",
    "\n",
    "train_spec = tf.estimator.TrainSpec(\n",
    "  input_fn=make_train_input_fn(train_x, train_y, 100),\n",
    "  max_steps=20000)\n",
    "\n",
    "eval_spec = tf.estimator.EvalSpec(\n",
    "  input_fn=make_eval_input_fn(test_x, test_y),\n",
    "  steps=None,          # use complete test set\n",
    "  start_delay_secs=0,  # start immediately\n",
    "  throttle_secs=10)    # minimum delay between evaluations\n",
    "\n",
    "tf.estimator.train_and_evaluate(classifier, train_spec, eval_spec)"
   ]
  },
  {
   "cell_type": "code",
   "execution_count": 9,
   "metadata": {},
   "outputs": [
    {
     "name": "stdout",
     "output_type": "stream",
     "text": [
      "INFO:tensorflow:Calling model_fn.\n",
      "INFO:tensorflow:Done calling model_fn.\n",
      "INFO:tensorflow:Starting evaluation at 2018-11-12-19:45:44\n",
      "INFO:tensorflow:Graph was finalized.\n",
      "INFO:tensorflow:Restoring parameters from ./model/iris_DNN/model.ckpt-20000\n",
      "INFO:tensorflow:Running local_init_op.\n",
      "INFO:tensorflow:Done running local_init_op.\n",
      "INFO:tensorflow:Finished evaluation at 2018-11-12-19:45:44\n",
      "INFO:tensorflow:Saving dict for global step 20000: accuracy = 0.96666664, average_loss = 0.11396465, global_step = 20000, loss = 3.4189394\n",
      "\n",
      "Test set accuracy: 0.967\n",
      "\n"
     ]
    }
   ],
   "source": [
    "# Evaluate the model.\n",
    "eval_result = classifier.evaluate(\n",
    "  input_fn=make_eval_input_fn(test_x, test_y))\n",
    "print('\\nTest set accuracy: {accuracy:0.3f}\\n'.format(**eval_result))"
   ]
  },
  {
   "cell_type": "code",
   "execution_count": 10,
   "metadata": {},
   "outputs": [
    {
     "name": "stdout",
     "output_type": "stream",
     "text": [
      "INFO:tensorflow:Calling model_fn.\n",
      "INFO:tensorflow:Done calling model_fn.\n",
      "INFO:tensorflow:Graph was finalized.\n",
      "INFO:tensorflow:Restoring parameters from ./model/iris_DNN/model.ckpt-20000\n",
      "INFO:tensorflow:Running local_init_op.\n",
      "INFO:tensorflow:Done running local_init_op.\n",
      "\n",
      "Prediction is \"Setosa\" (100.0%), expected \"Setosa\"\n",
      "\n",
      "Prediction is \"Versicolor\" (100.0%), expected \"Versicolor\"\n",
      "\n",
      "Prediction is \"Virginica\" (100.0%), expected \"Virginica\"\n"
     ]
    }
   ],
   "source": [
    "# Generate predictions from the model\n",
    "expected = ['Setosa', 'Versicolor', 'Virginica']\n",
    "predict_x = {\n",
    "  'SepalLength': [5.1, 5.9, 6.9],\n",
    "  'SepalWidth': [3.3, 3.0, 3.1],\n",
    "  'PetalLength': [1.7, 4.2, 5.4],\n",
    "  'PetalWidth': [0.5, 1.5, 2.1],\n",
    "}\n",
    "\n",
    "predictions = classifier.predict(input_fn=make_eval_input_fn(predict_x))\n",
    "\n",
    "template = ('\\nPrediction is \"{}\" ({:.1f}%), expected \"{}\"')\n",
    "\n",
    "for pred_dict, expec in zip(predictions, expected):\n",
    "  class_id = pred_dict['class_ids'][0]\n",
    "  probability = pred_dict['probabilities'][class_id]\n",
    "\n",
    "  print(template.format(SPECIES[class_id], 100 * probability, expec))"
   ]
  }
 ],
 "metadata": {
  "kernelspec": {
   "display_name": "Python 2",
   "language": "python",
   "name": "python2"
  },
  "language_info": {
   "codemirror_mode": {
    "name": "ipython",
    "version": 2
   },
   "file_extension": ".py",
   "mimetype": "text/x-python",
   "name": "python",
   "nbconvert_exporter": "python",
   "pygments_lexer": "ipython2",
   "version": "2.7.15"
  }
 },
 "nbformat": 4,
 "nbformat_minor": 2
}
