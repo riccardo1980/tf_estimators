{
 "cells": [
  {
   "cell_type": "code",
   "execution_count": 1,
   "metadata": {},
   "outputs": [
    {
     "name": "stderr",
     "output_type": "stream",
     "text": [
      "/usr/local/envs/py2env/lib/python2.7/site-packages/h5py/__init__.py:36: FutureWarning: Conversion of the second argument of issubdtype from `float` to `np.floating` is deprecated. In future, it will be treated as `np.float64 == np.dtype(float).type`.\n",
      "  from ._conv import register_converters as _register_converters\n"
     ]
    }
   ],
   "source": [
    "from __future__ import absolute_import\n",
    "from __future__ import division\n",
    "from __future__ import print_function\n",
    "\n",
    "import tensorflow as tf"
   ]
  },
  {
   "cell_type": "code",
   "execution_count": 2,
   "metadata": {},
   "outputs": [],
   "source": [
    "MODEL_DIR = './model/iris_DNN'"
   ]
  },
  {
   "cell_type": "code",
   "execution_count": 3,
   "metadata": {},
   "outputs": [],
   "source": [
    "TRAIN_URL = \"http://download.tensorflow.org/data/iris_training.csv\"\n",
    "TEST_URL = \"http://download.tensorflow.org/data/iris_test.csv\"\n",
    "\n",
    "CSV_COLUMN_NAMES = ['SepalLength', 'SepalWidth',\n",
    "                    'PetalLength', 'PetalWidth', 'Species']\n",
    "SPECIES = ['Setosa', 'Versicolor', 'Virginica']\n",
    "\n",
    "def maybe_download():\n",
    "  train_path = tf.keras.utils.get_file(TRAIN_URL.split('/')[-1], TRAIN_URL)\n",
    "  test_path = tf.keras.utils.get_file(TEST_URL.split('/')[-1], TEST_URL)\n",
    "\n",
    "  return train_path, test_path\n",
    "\n",
    "def load_data(y_name='Species'):\n",
    "  \"\"\"Returns the iris dataset as (train_x, train_y), (test_x, test_y).\"\"\"\n",
    "  import pandas as pd\n",
    "  train_path, test_path = maybe_download()\n",
    "\n",
    "  train = pd.read_csv(train_path, names=CSV_COLUMN_NAMES, header=0)\n",
    "  train_x, train_y = train, train.pop(y_name)\n",
    "\n",
    "  test = pd.read_csv(test_path, names=CSV_COLUMN_NAMES, header=0)\n",
    "  test_x, test_y = test, test.pop(y_name)\n",
    "\n",
    "  return (train_x, train_y), (test_x, test_y)"
   ]
  },
  {
   "cell_type": "code",
   "execution_count": 4,
   "metadata": {},
   "outputs": [],
   "source": [
    "def make_train_input_fn(features, labels, batch_size):\n",
    "  def train_input_fn():\n",
    "    \"\"\"An input function for training\"\"\"\n",
    "    # Convert the inputs to a Dataset.\n",
    "    dataset = tf.data.Dataset.from_tensor_slices((dict(features), labels))\n",
    "\n",
    "    # Shuffle, repeat, and batch the examples.\n",
    "    dataset = dataset.shuffle(1000).repeat().batch(batch_size)\n",
    "    \n",
    "    # Return the dataset.\n",
    "    return dataset\n",
    "  return train_input_fn"
   ]
  },
  {
   "cell_type": "code",
   "execution_count": 5,
   "metadata": {},
   "outputs": [],
   "source": [
    "# Fetch the data\n",
    "(train_x, train_y), (test_x, test_y) = load_data()\n",
    "\n",
    "# Feature columns describe how to use the input.\n",
    "my_feature_columns = []\n",
    "for key in train_x.keys():\n",
    "  my_feature_columns.append(tf.feature_column.numeric_column(key=key))"
   ]
  },
  {
   "cell_type": "code",
   "execution_count": 6,
   "metadata": {},
   "outputs": [],
   "source": [
    "! rm -rf $MODEL_DIR"
   ]
  },
  {
   "cell_type": "code",
   "execution_count": 7,
   "metadata": {},
   "outputs": [
    {
     "name": "stdout",
     "output_type": "stream",
     "text": [
      "INFO:tensorflow:Using config: {'_save_checkpoints_secs': None, '_session_config': None, '_keep_checkpoint_max': 5, '_task_type': 'worker', '_train_distribute': None, '_is_chief': True, '_cluster_spec': <tensorflow.python.training.server_lib.ClusterSpec object at 0x7f03bd4d2990>, '_evaluation_master': '', '_save_checkpoints_steps': 2000, '_keep_checkpoint_every_n_hours': 10000, '_service': None, '_num_ps_replicas': 0, '_tf_random_seed': None, '_master': '', '_num_worker_replicas': 1, '_task_id': 0, '_log_step_count_steps': 500, '_model_dir': './model/iris_DNN', '_global_id_in_cluster': 0, '_save_summary_steps': 100}\n"
     ]
    }
   ],
   "source": [
    "my_checkpointing_config = tf.estimator.RunConfig(\n",
    "    save_checkpoints_steps = 2000,\n",
    "    #keep_checkpoint_max = 10,\n",
    "    log_step_count_steps = 500\n",
    ")\n",
    "\n",
    "\n",
    "# Build 2 hidden layer DNN with 10, 10 units respectively.\n",
    "classifier = tf.estimator.DNNClassifier(\n",
    "  feature_columns=my_feature_columns,\n",
    "  # Two hidden layers of 10 nodes each.\n",
    "  hidden_units=[10, 10],\n",
    "  # The model must choose between 3 classes.\n",
    "  n_classes=3,\n",
    "  model_dir=MODEL_DIR,\n",
    "  config=my_checkpointing_config\n",
    ")"
   ]
  },
  {
   "cell_type": "code",
   "execution_count": 8,
   "metadata": {},
   "outputs": [
    {
     "name": "stdout",
     "output_type": "stream",
     "text": [
      "INFO:tensorflow:Calling model_fn.\n",
      "INFO:tensorflow:Done calling model_fn.\n",
      "INFO:tensorflow:Create CheckpointSaverHook.\n",
      "INFO:tensorflow:Graph was finalized.\n",
      "INFO:tensorflow:Running local_init_op.\n",
      "INFO:tensorflow:Done running local_init_op.\n",
      "INFO:tensorflow:Saving checkpoints for 1 into ./model/iris_DNN/model.ckpt.\n",
      "INFO:tensorflow:loss = 167.83923, step = 1\n",
      "INFO:tensorflow:global_step/sec: 524.416\n",
      "INFO:tensorflow:loss = 14.076929, step = 501 (0.956 sec)\n",
      "INFO:tensorflow:global_step/sec: 634.827\n",
      "INFO:tensorflow:loss = 8.349776, step = 1001 (0.788 sec)\n",
      "INFO:tensorflow:global_step/sec: 627.287\n",
      "INFO:tensorflow:loss = 6.7325387, step = 1501 (0.798 sec)\n",
      "INFO:tensorflow:Saving checkpoints for 2001 into ./model/iris_DNN/model.ckpt.\n",
      "INFO:tensorflow:global_step/sec: 599.854\n",
      "INFO:tensorflow:loss = 6.8694263, step = 2001 (0.834 sec)\n",
      "INFO:tensorflow:global_step/sec: 645.623\n",
      "INFO:tensorflow:loss = 2.3899066, step = 2501 (0.773 sec)\n",
      "INFO:tensorflow:global_step/sec: 637.617\n",
      "INFO:tensorflow:loss = 3.0617042, step = 3001 (0.785 sec)\n",
      "INFO:tensorflow:global_step/sec: 632.868\n",
      "INFO:tensorflow:loss = 3.7537103, step = 3501 (0.790 sec)\n",
      "INFO:tensorflow:Saving checkpoints for 4001 into ./model/iris_DNN/model.ckpt.\n",
      "INFO:tensorflow:global_step/sec: 595.11\n",
      "INFO:tensorflow:loss = 6.217383, step = 4001 (0.840 sec)\n",
      "INFO:tensorflow:global_step/sec: 652.661\n",
      "INFO:tensorflow:loss = 4.511493, step = 4501 (0.766 sec)\n",
      "INFO:tensorflow:global_step/sec: 644.796\n",
      "INFO:tensorflow:loss = 4.6010385, step = 5001 (0.777 sec)\n",
      "INFO:tensorflow:global_step/sec: 647.17\n",
      "INFO:tensorflow:loss = 3.7336407, step = 5501 (0.772 sec)\n",
      "INFO:tensorflow:Saving checkpoints for 6001 into ./model/iris_DNN/model.ckpt.\n",
      "INFO:tensorflow:global_step/sec: 519.095\n",
      "INFO:tensorflow:loss = 4.1797714, step = 6001 (0.964 sec)\n",
      "INFO:tensorflow:global_step/sec: 651.886\n",
      "INFO:tensorflow:loss = 3.977449, step = 6501 (0.766 sec)\n",
      "INFO:tensorflow:global_step/sec: 667.511\n",
      "INFO:tensorflow:loss = 4.551432, step = 7001 (0.750 sec)\n",
      "INFO:tensorflow:global_step/sec: 658.034\n",
      "INFO:tensorflow:loss = 1.8355882, step = 7501 (0.759 sec)\n",
      "INFO:tensorflow:Saving checkpoints for 8001 into ./model/iris_DNN/model.ckpt.\n",
      "INFO:tensorflow:global_step/sec: 609.886\n",
      "INFO:tensorflow:loss = 3.8022397, step = 8001 (0.820 sec)\n",
      "INFO:tensorflow:global_step/sec: 666.293\n",
      "INFO:tensorflow:loss = 4.0689716, step = 8501 (0.750 sec)\n",
      "INFO:tensorflow:global_step/sec: 655.535\n",
      "INFO:tensorflow:loss = 4.217229, step = 9001 (0.764 sec)\n",
      "INFO:tensorflow:global_step/sec: 657.421\n",
      "INFO:tensorflow:loss = 5.756307, step = 9501 (0.759 sec)\n",
      "INFO:tensorflow:Saving checkpoints for 10001 into ./model/iris_DNN/model.ckpt.\n",
      "INFO:tensorflow:global_step/sec: 616.654\n",
      "INFO:tensorflow:loss = 4.670331, step = 10001 (0.812 sec)\n",
      "INFO:tensorflow:global_step/sec: 658.656\n",
      "INFO:tensorflow:loss = 3.818545, step = 10501 (0.758 sec)\n",
      "INFO:tensorflow:global_step/sec: 653.113\n",
      "INFO:tensorflow:loss = 6.086123, step = 11001 (0.766 sec)\n",
      "INFO:tensorflow:global_step/sec: 665.069\n",
      "INFO:tensorflow:loss = 2.7850926, step = 11501 (0.753 sec)\n",
      "INFO:tensorflow:Saving checkpoints for 12001 into ./model/iris_DNN/model.ckpt.\n",
      "INFO:tensorflow:global_step/sec: 620.85\n",
      "INFO:tensorflow:loss = 4.096945, step = 12001 (0.805 sec)\n",
      "INFO:tensorflow:global_step/sec: 642.891\n",
      "INFO:tensorflow:loss = 5.9718585, step = 12501 (0.776 sec)\n",
      "INFO:tensorflow:global_step/sec: 634.521\n",
      "INFO:tensorflow:loss = 4.1810193, step = 13001 (0.788 sec)\n",
      "INFO:tensorflow:global_step/sec: 658.999\n",
      "INFO:tensorflow:loss = 3.4508662, step = 13501 (0.760 sec)\n",
      "INFO:tensorflow:Saving checkpoints for 14001 into ./model/iris_DNN/model.ckpt.\n",
      "INFO:tensorflow:global_step/sec: 593.591\n",
      "INFO:tensorflow:loss = 1.516442, step = 14001 (0.842 sec)\n",
      "INFO:tensorflow:global_step/sec: 622.333\n",
      "INFO:tensorflow:loss = 3.3785093, step = 14501 (0.804 sec)\n",
      "INFO:tensorflow:global_step/sec: 639.171\n",
      "INFO:tensorflow:loss = 3.5166402, step = 15001 (0.781 sec)\n",
      "INFO:tensorflow:global_step/sec: 628.798\n",
      "INFO:tensorflow:loss = 3.3125474, step = 15501 (0.796 sec)\n",
      "INFO:tensorflow:Saving checkpoints for 16001 into ./model/iris_DNN/model.ckpt.\n",
      "INFO:tensorflow:global_step/sec: 587.214\n",
      "INFO:tensorflow:loss = 1.9964229, step = 16001 (0.851 sec)\n",
      "INFO:tensorflow:global_step/sec: 623.081\n",
      "INFO:tensorflow:loss = 3.1285114, step = 16501 (0.802 sec)\n",
      "INFO:tensorflow:global_step/sec: 658.789\n",
      "INFO:tensorflow:loss = 2.716796, step = 17001 (0.759 sec)\n",
      "INFO:tensorflow:global_step/sec: 628.638\n",
      "INFO:tensorflow:loss = 3.5163183, step = 17501 (0.797 sec)\n",
      "INFO:tensorflow:Saving checkpoints for 18001 into ./model/iris_DNN/model.ckpt.\n",
      "INFO:tensorflow:global_step/sec: 587.578\n",
      "INFO:tensorflow:loss = 3.4261365, step = 18001 (0.850 sec)\n",
      "INFO:tensorflow:global_step/sec: 626.107\n",
      "INFO:tensorflow:loss = 2.0774925, step = 18501 (0.800 sec)\n",
      "INFO:tensorflow:global_step/sec: 627.444\n",
      "INFO:tensorflow:loss = 2.9283233, step = 19001 (0.795 sec)\n",
      "INFO:tensorflow:global_step/sec: 643.091\n",
      "INFO:tensorflow:loss = 3.3535633, step = 19501 (0.778 sec)\n",
      "INFO:tensorflow:Saving checkpoints for 20000 into ./model/iris_DNN/model.ckpt.\n",
      "INFO:tensorflow:Loss for final step: 3.473485.\n"
     ]
    },
    {
     "data": {
      "text/plain": [
       "<tensorflow.python.estimator.canned.dnn.DNNClassifier at 0x7f03bd4d2a10>"
      ]
     },
     "execution_count": 8,
     "metadata": {},
     "output_type": "execute_result"
    }
   ],
   "source": [
    "# Train the Model.\n",
    "classifier.train(\n",
    "  input_fn=make_train_input_fn(train_x, train_y, 100),\n",
    "  steps=20000)"
   ]
  },
  {
   "cell_type": "code",
   "execution_count": 9,
   "metadata": {},
   "outputs": [],
   "source": [
    "def make_eval_input_fn(features, labels=None, batch_size=100):\n",
    "  def eval_input_fn():\n",
    "    \"\"\"An input function for evaluation or prediction\"\"\"\n",
    "    if labels is None:\n",
    "        # No labels, use only features.\n",
    "        inputs = dict(features)\n",
    "    else:\n",
    "        inputs = (dict(features), labels)\n",
    "\n",
    "    # Convert the inputs to a Dataset.\n",
    "    dataset = tf.data.Dataset.from_tensor_slices(inputs)\n",
    "\n",
    "    # Batch the examples\n",
    "    assert batch_size is not None, \"batch_size must not be None\"\n",
    "    dataset = dataset.batch(batch_size)\n",
    "\n",
    "    # Return the dataset.\n",
    "    return dataset\n",
    "  \n",
    "  return eval_input_fn"
   ]
  },
  {
   "cell_type": "code",
   "execution_count": 10,
   "metadata": {},
   "outputs": [
    {
     "name": "stdout",
     "output_type": "stream",
     "text": [
      "INFO:tensorflow:Calling model_fn.\n",
      "INFO:tensorflow:Done calling model_fn.\n",
      "INFO:tensorflow:Starting evaluation at 2018-11-11-17:54:01\n",
      "INFO:tensorflow:Graph was finalized.\n",
      "INFO:tensorflow:Restoring parameters from ./model/iris_DNN/model.ckpt-20000\n",
      "INFO:tensorflow:Running local_init_op.\n",
      "INFO:tensorflow:Done running local_init_op.\n",
      "INFO:tensorflow:Finished evaluation at 2018-11-11-17:54:01\n",
      "INFO:tensorflow:Saving dict for global step 20000: accuracy = 0.96666664, average_loss = 0.111506194, global_step = 20000, loss = 3.3451858\n",
      "\n",
      "Test set accuracy: 0.967\n",
      "\n"
     ]
    }
   ],
   "source": [
    "# Evaluate the model.\n",
    "eval_result = classifier.evaluate(\n",
    "  input_fn=make_eval_input_fn(test_x, test_y))\n",
    "print('\\nTest set accuracy: {accuracy:0.3f}\\n'.format(**eval_result))"
   ]
  },
  {
   "cell_type": "code",
   "execution_count": 11,
   "metadata": {},
   "outputs": [
    {
     "name": "stdout",
     "output_type": "stream",
     "text": [
      "INFO:tensorflow:Calling model_fn.\n",
      "INFO:tensorflow:Done calling model_fn.\n",
      "INFO:tensorflow:Graph was finalized.\n",
      "INFO:tensorflow:Restoring parameters from ./model/iris_DNN/model.ckpt-20000\n",
      "INFO:tensorflow:Running local_init_op.\n",
      "INFO:tensorflow:Done running local_init_op.\n",
      "\n",
      "Prediction is \"Setosa\" (100.0%), expected \"Setosa\"\n",
      "\n",
      "Prediction is \"Versicolor\" (99.7%), expected \"Versicolor\"\n",
      "\n",
      "Prediction is \"Virginica\" (100.0%), expected \"Virginica\"\n"
     ]
    }
   ],
   "source": [
    "# Generate predictions from the model\n",
    "expected = ['Setosa', 'Versicolor', 'Virginica']\n",
    "predict_x = {\n",
    "  'SepalLength': [5.1, 5.9, 6.9],\n",
    "  'SepalWidth': [3.3, 3.0, 3.1],\n",
    "  'PetalLength': [1.7, 4.2, 5.4],\n",
    "  'PetalWidth': [0.5, 1.5, 2.1],\n",
    "}\n",
    "\n",
    "predictions = classifier.predict(input_fn=make_eval_input_fn(predict_x))\n",
    "\n",
    "template = ('\\nPrediction is \"{}\" ({:.1f}%), expected \"{}\"')\n",
    "\n",
    "for pred_dict, expec in zip(predictions, expected):\n",
    "  class_id = pred_dict['class_ids'][0]\n",
    "  probability = pred_dict['probabilities'][class_id]\n",
    "\n",
    "  print(template.format(SPECIES[class_id], 100 * probability, expec))"
   ]
  },
  {
   "cell_type": "code",
   "execution_count": null,
   "metadata": {},
   "outputs": [],
   "source": []
  }
 ],
 "metadata": {
  "kernelspec": {
   "display_name": "Python 2",
   "language": "python",
   "name": "python2"
  },
  "language_info": {
   "codemirror_mode": {
    "name": "ipython",
    "version": 2
   },
   "file_extension": ".py",
   "mimetype": "text/x-python",
   "name": "python",
   "nbconvert_exporter": "python",
   "pygments_lexer": "ipython2",
   "version": "2.7.15"
  }
 },
 "nbformat": 4,
 "nbformat_minor": 2
}
