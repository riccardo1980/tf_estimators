{
  "nbformat": 4,
  "nbformat_minor": 0,
  "metadata": {
    "colab": {
      "name": "MNIST_cnn.ipynb",
      "version": "0.3.2",
      "provenance": [],
      "collapsed_sections": []
    },
    "kernelspec": {
      "name": "python3",
      "display_name": "Python 3"
    },
    "accelerator": "GPU"
  },
  "cells": [
    {
      "cell_type": "markdown",
      "metadata": {
        "id": "4YZxdEpCSnu3",
        "colab_type": "text"
      },
      "source": [
        "# Simple Convolutional Encoder Decoder\n",
        "-  dataset: MNIST\n",
        "- TensorFlow: tf.keras, tf.Estimator\n",
        "- Colab TensorBoard monitoring\n",
        "\n",
        "ToDo:\n",
        "- rearrange encoder/decoder scopes\n",
        "- move reshape out of model_fn"
      ]
    },
    {
      "cell_type": "code",
      "metadata": {
        "id": "A3zbQK02Wkz6",
        "colab_type": "code",
        "colab": {}
      },
      "source": [
        "from datetime import datetime\n",
        "import os\n",
        "import tensorflow as tf\n",
        "import numpy as np"
      ],
      "execution_count": 0,
      "outputs": []
    },
    {
      "cell_type": "markdown",
      "metadata": {
        "id": "DdHzrwm3Ie4N",
        "colab_type": "text"
      },
      "source": [
        "## Define plotting utils"
      ]
    },
    {
      "cell_type": "code",
      "metadata": {
        "id": "gDku4WMTEK5S",
        "colab_type": "code",
        "colab": {}
      },
      "source": [
        "import matplotlib.pyplot as plt\n",
        "\n",
        "%matplotlib inline\n",
        "plt.rcParams['figure.figsize'] = [12, 9]\n",
        "\n",
        "def print_images(images, labels=None, images_per_row=5, title_prefix=''):\n",
        "  \n",
        "  n_images = len(images) \n",
        "  rows = (n_images + images_per_row -1) //images_per_row\n",
        "  \n",
        "  if labels is None:\n",
        "    labels = n_images * ['']\n",
        "    \n",
        "  for idx, (image, label) in enumerate(zip(images, labels)):\n",
        "    ax = plt.subplot(rows, images_per_row, idx+1)\n",
        "    ax.imshow(np.squeeze(image))\n",
        "    ax.axis('off')\n",
        "    ax.set_title('{}{}'.format(title_prefix,label))"
      ],
      "execution_count": 0,
      "outputs": []
    },
    {
      "cell_type": "markdown",
      "metadata": {
        "id": "K27HHEsgIZt0",
        "colab_type": "text"
      },
      "source": [
        "## Create LOGDIR folder"
      ]
    },
    {
      "cell_type": "code",
      "metadata": {
        "id": "nksdyzI2XGsj",
        "colab_type": "code",
        "outputId": "dc50e0f7-0b2f-419c-b6c6-74da8eac3a8d",
        "colab": {
          "base_uri": "https://localhost:8080/",
          "height": 74
        }
      },
      "source": [
        "now = datetime.utcnow().strftime(\"%Y%m%d_%H%M%S\")\n",
        "MODEL_DIR=os.path.join(\"/tmp/mnist_convnet_model\", now)\n",
        "\n",
        "try:  \n",
        "    os.makedirs(MODEL_DIR)\n",
        "except OSError:  \n",
        "    print (\"Creation of the directory %s failed\" % MODEL_DIR)\n",
        "else:  \n",
        "    print (\"Successfully created the directory %s \" % MODEL_DIR)"
      ],
      "execution_count": 3,
      "outputs": [
        {
          "output_type": "stream",
          "text": [
            "Successfully created the directory /tmp/mnist_convnet_model/20190511_090410 \n"
          ],
          "name": "stdout"
        }
      ]
    },
    {
      "cell_type": "markdown",
      "metadata": {
        "id": "b6GX9nHfwxLT",
        "colab_type": "text"
      },
      "source": [
        "## Start TensorBoard"
      ]
    },
    {
      "cell_type": "code",
      "metadata": {
        "id": "9ftxvdNf7zPT",
        "colab_type": "code",
        "colab": {}
      },
      "source": [
        "get_ipython().system_raw(\n",
        "    'tensorboard --logdir {} --host 0.0.0.0 --port 6006 &'\n",
        "    .format(MODEL_DIR)\n",
        ")"
      ],
      "execution_count": 0,
      "outputs": []
    },
    {
      "cell_type": "markdown",
      "metadata": {
        "id": "NMPDCj8hwqUx",
        "colab_type": "text"
      },
      "source": [
        "##[optional] Get ngrock and run it\n"
      ]
    },
    {
      "cell_type": "code",
      "metadata": {
        "id": "lWlGvF9AY1La",
        "colab_type": "code",
        "outputId": "b2a52185-02ea-480a-f5bb-c6bcc4471bd6",
        "colab": {
          "base_uri": "https://localhost:8080/",
          "height": 326
        }
      },
      "source": [
        "import requests, time\n",
        "\n",
        "max_tries=3  # max attempts\n",
        "grace_time=1 # seconds\n",
        "\n",
        "![[ ! -f \"ngrok\" ]]  \\\n",
        "  && wget https://bin.equinox.io/c/4VmDzA7iaHb/ngrok-stable-linux-amd64.zip \\\n",
        "  && unzip ngrok-stable-linux-amd64.zip \\\n",
        "  && rm ngrok-stable-linux-amd64.zip\n",
        "\n",
        "get_ipython().system_raw('./ngrok http 6006 &')\n",
        "time.sleep(grace_time)\n",
        "\n",
        "for attempt in range(max_tries):\n",
        "  try:\n",
        "    tunnels_list = requests.get('http://localhost:4040/api/tunnels').json()['tunnels']\n",
        "    print('resource available at: {}'.format(tunnels_list[0]['public_url']))\n",
        "    break\n",
        "    \n",
        "  except ConnectionRefusedError:\n",
        "    print('retry after {} second[s]'.format(grace_time))\n",
        "    time.sleep(grace_time)  "
      ],
      "execution_count": 5,
      "outputs": [
        {
          "output_type": "stream",
          "text": [
            "--2019-05-11 09:04:11--  https://bin.equinox.io/c/4VmDzA7iaHb/ngrok-stable-linux-amd64.zip\n",
            "Resolving bin.equinox.io (bin.equinox.io)... 52.54.84.112, 52.202.60.111, 34.196.237.103, ...\n",
            "Connecting to bin.equinox.io (bin.equinox.io)|52.54.84.112|:443... connected.\n",
            "HTTP request sent, awaiting response... 200 OK\n",
            "Length: 16529980 (16M) [application/octet-stream]\n",
            "Saving to: ‘ngrok-stable-linux-amd64.zip’\n",
            "\n",
            "ngrok-stable-linux- 100%[===================>]  15.76M  15.5MB/s    in 1.0s    \n",
            "\n",
            "2019-05-11 09:04:12 (15.5 MB/s) - ‘ngrok-stable-linux-amd64.zip’ saved [16529980/16529980]\n",
            "\n",
            "Archive:  ngrok-stable-linux-amd64.zip\n",
            "  inflating: ngrok                   \n",
            "resource available at: https://34094908.ngrok.io\n"
          ],
          "name": "stdout"
        }
      ]
    },
    {
      "cell_type": "markdown",
      "metadata": {
        "id": "itw9uDc8tX2S",
        "colab_type": "text"
      },
      "source": [
        "# Define Estimator functions"
      ]
    },
    {
      "cell_type": "code",
      "metadata": {
        "id": "8BLHeKUFlV79",
        "colab_type": "code",
        "colab": {}
      },
      "source": [
        "def net_summary(net):\n",
        "    for idx, t in enumerate(net):\n",
        "      print('{} {} {}'.format(idx+1, t.name, t.shape))"
      ],
      "execution_count": 0,
      "outputs": []
    },
    {
      "cell_type": "code",
      "metadata": {
        "id": "K0gwXbh4lmHm",
        "colab_type": "code",
        "colab": {}
      },
      "source": [
        "def make_model_fn(optimizer, encoder_config, decoder_config):\n",
        "  \n",
        "  def _add_fc(net, config):\n",
        "    for hidden in config:\n",
        "      with tf.variable_scope('dense'):\n",
        "        net.append(tf.keras.layers.Dense(hidden, \n",
        "                                         activation='relu', \n",
        "                                         name='fc')(net[-1]))\n",
        "    return net\n",
        "  \n",
        "  def _add_encoder(net, config):\n",
        "    with tf.variable_scope('encoder'):\n",
        "      for cc in config:\n",
        "        with tf.variable_scope('conv_pool'):\n",
        "          [k, s, f] = cc['conv']\n",
        "          activation = cc['activation']\n",
        "        \n",
        "          net.append(tf.keras.layers.Conv2D(filters=f, kernel_size=(k, k),\n",
        "                                            padding='same',\n",
        "                                            name='conv')(net[-1]))\n",
        "        \n",
        "          net.append(tf.keras.layers.MaxPooling2D((s, s), padding='same',\n",
        "                                                  name='pool')(net[-1]))\n",
        "    \n",
        "    return net\n",
        "  \n",
        "  def _add_decoder(net, config):\n",
        "    with tf.variable_scope('decoder'):\n",
        "      for cc in config:\n",
        "        with tf.variable_scope('conv_upsample'):\n",
        "          [k, s, f] = cc['conv']\n",
        "          activation = cc['activation']\n",
        "        \n",
        "          net.append(tf.keras.layers.Conv2D(filters=f, kernel_size=(k, k),\n",
        "                                            padding='same',\n",
        "                                            name='conv')(net[-1]))\n",
        "        \n",
        "          net.append(tf.keras.layers.UpSampling2D((s, s), name='upsample')(net[-1]))\n",
        "    \n",
        "    return net\n",
        "    \n",
        "  def _model_fn(features, labels, mode, params=None):\n",
        "    \"\"\"Model function for CNN.\"\"\"\n",
        "    \n",
        "    net = []\n",
        "    \n",
        "    # Input Layer\n",
        "    net.append(features[\"x\"])\n",
        "    #net.append(tf.keras.layers.Reshape([HEIGHT, WIDTH, CHANNELS], name='input')\n",
        "    #           (features['x']))\n",
        "\n",
        "    # encoder\n",
        "    net = _add_encoder(net, encoder_config)\n",
        "    encoded_image_shape=net[-1].shape.as_list()\n",
        "    \n",
        "    # Embeddings\n",
        "    net.append(tf.keras.layers.Flatten(name='embeddings')(net[-1]))\n",
        "    embeddings = net[-1]\n",
        "    \n",
        "    net.append(tf.keras.layers.Reshape(encoded_image_shape[1:])(net[-1]))\n",
        "    \n",
        "    # decoder\n",
        "    net = _add_decoder(net, decoder_config)\n",
        "    \n",
        "    CHANNELS = features['x'].shape[-1].value\n",
        "    net.append(tf.keras.layers.Conv2D(filters=CHANNELS, kernel_size=(3, 3),\n",
        "                                      padding='same',activation='sigmoid',\n",
        "                                      name='reconstructed')(net[-1]))\n",
        "    \n",
        "    # Dropout layer (on train graph)\n",
        "    #if (mode == tf.estimator.ModeKeys.TRAIN):\n",
        "    #  net.append(tf.keras.layers.Dropout(rate=0.4)(net[-1]))\n",
        "    \n",
        "    net_summary(net)\n",
        "    \n",
        "    # Compute predictions\n",
        "    reconstructed_images = net[-1]\n",
        "    \n",
        "    predictions = {\n",
        "        'embeddings': embeddings,\n",
        "        'reconstructed_images': reconstructed_images\n",
        "    }\n",
        "    \n",
        "    ###########\n",
        "    # PREDICT #\n",
        "    ###########\n",
        "    if mode == tf.estimator.ModeKeys.PREDICT:\n",
        "      return tf.estimator.EstimatorSpec(mode=mode,\n",
        "                                        predictions=predictions)\n",
        "\n",
        "    # Loss\n",
        "    loss = tf.reduce_mean(tf.square(reconstructed_images-labels['y']))\n",
        "\n",
        "    \n",
        "    # Metrics\n",
        "    mae = tf.metrics.mean_absolute_error(labels['y'], reconstructed_images,\n",
        "                                         name='mae_op')\n",
        "    \n",
        "    metrics = {'mae': mae}\n",
        "    tf.summary.scalar('mae', mae[1])\n",
        "    \n",
        "    ########\n",
        "    # EVAL #\n",
        "    ########\n",
        "    if mode == tf.estimator.ModeKeys.EVAL:\n",
        "      return tf.estimator.EstimatorSpec(mode, loss=loss,\n",
        "                                        eval_metric_ops=metrics)\n",
        "    \n",
        "    #########\n",
        "    # TRAIN #\n",
        "    #########\n",
        "    assert mode == tf.estimator.ModeKeys.TRAIN\n",
        "    \n",
        "    train_op = optimizer.minimize(loss, \n",
        "                                  global_step=tf.train.get_global_step())\n",
        "    return tf.estimator.EstimatorSpec(mode, loss=loss, train_op=train_op,\n",
        "                                     eval_metric_ops=metrics)\n",
        "  \n",
        "  return _model_fn"
      ],
      "execution_count": 0,
      "outputs": []
    },
    {
      "cell_type": "code",
      "metadata": {
        "id": "HSU9zgB6nxzm",
        "colab_type": "code",
        "colab": {}
      },
      "source": [
        "def make_train_input_fn(features,\n",
        "                        labels,\n",
        "                        batch_size=100,\n",
        "                        num_epochs=None,\n",
        "                        shuffle=False):\n",
        "    \n",
        "  train_input_fn = tf.estimator.inputs.numpy_input_fn(x={'x': features},\n",
        "                                                      y={'y': labels},\n",
        "                                                      batch_size=batch_size,\n",
        "                                                      num_epochs=num_epochs,\n",
        "                                                      shuffle=shuffle)\n",
        "  return train_input_fn\n",
        "\n",
        "def make_eval_input_fn(features,\n",
        "                       labels=None):\n",
        "  if labels is None:\n",
        "    y = None\n",
        "  else:\n",
        "    y = {'y': labels}    \n",
        "  eval_input_fn = tf.estimator.inputs.numpy_input_fn(x={'x': features},\n",
        "                                                     y=y,\n",
        "                                                     num_epochs=1,\n",
        "                                                     shuffle=False)\n",
        "  \n",
        "  return eval_input_fn"
      ],
      "execution_count": 0,
      "outputs": []
    },
    {
      "cell_type": "markdown",
      "metadata": {
        "id": "eEPGaPm0tiIO",
        "colab_type": "text"
      },
      "source": [
        "# Load Dataset"
      ]
    },
    {
      "cell_type": "code",
      "metadata": {
        "id": "d9rswkoVnW5g",
        "colab_type": "code",
        "colab": {}
      },
      "source": [
        "# Load training and eval data\n",
        "((train_data, train_classes),\n",
        " (eval_data, eval_classes)) = tf.keras.datasets.mnist.load_data()\n",
        "\n",
        "train_data = train_data/np.float32(255)\n",
        "train_classes = train_classes.astype(np.int32)  # not required\n",
        "\n",
        "eval_data = eval_data/np.float32(255)\n",
        "eval_classes = eval_classes.astype(np.int32)  # not required\n",
        "\n",
        "# reshape to [batch, height, width, channels]\n",
        "train_data = np.expand_dims(train_data, -1)\n",
        "eval_data = np.expand_dims(eval_data, -1)"
      ],
      "execution_count": 0,
      "outputs": []
    },
    {
      "cell_type": "code",
      "metadata": {
        "id": "x85LY0DFGr7J",
        "colab_type": "code",
        "colab": {
          "base_uri": "https://localhost:8080/",
          "height": 546
        },
        "outputId": "d37eba8f-31b5-47cd-9b69-0b4ab7f5cdda"
      },
      "source": [
        "PICKED=12\n",
        "print_images(eval_data[:PICKED], labels=eval_classes[:PICKED])"
      ],
      "execution_count": 19,
      "outputs": [
        {
          "output_type": "display_data",
          "data": {
            "image/png": "[encoded data removed]",
            "text/plain": [
              "<Figure size 864x648 with 12 Axes>"
            ]
          },
          "metadata": {
            "tags": []
          }
        }
      ]
    },
    {
      "cell_type": "markdown",
      "metadata": {
        "id": "Z67gPXnvtpHR",
        "colab_type": "text"
      },
      "source": [
        "# Create the Estimator"
      ]
    },
    {
      "cell_type": "code",
      "metadata": {
        "id": "Yvpal_2nqV3F",
        "colab_type": "code",
        "colab": {}
      },
      "source": [
        "learning_rate=0.1\n",
        "batch_size=256\n",
        "max_steps=20000\n",
        "\n",
        "\"\"\"\n",
        "encoder_config = [ {'conv': [5, 2, 32], 'activation': 'relu'},\n",
        "                   {'conv': [5, 2, 64], 'activation': 'relu'}]\n",
        "\"\"\"\n",
        "\n",
        "encoder_config = [ {'conv':  [3, 2, 16], 'activation': 'relu'},\n",
        "                   {'conv':  [3, 1, 16], 'activation': 'relu'},\n",
        "                   {'conv':  [3, 2, 32], 'activation': 'relu'},\n",
        "                   {'conv':  [3, 1, 32], 'activation': 'relu'},\n",
        "                   {'conv':  [3, 1, 16], 'activation': 'relu'},\n",
        "                   {'conv':  [3, 1, 8], 'activation': 'relu'},\n",
        "                 ]"
      ],
      "execution_count": 0,
      "outputs": []
    },
    {
      "cell_type": "code",
      "metadata": {
        "id": "7OvbvjihxE_F",
        "colab_type": "code",
        "outputId": "ce485734-0ae4-46f5-fa28-fcba12f35c4d",
        "colab": {
          "base_uri": "https://localhost:8080/",
          "height": 191
        }
      },
      "source": [
        "# Create the Estimator\n",
        "my_checkpointing_config = tf.estimator.RunConfig(\n",
        "    save_checkpoints_steps = 2000,\n",
        "    #keep_checkpoint_max = 10,\n",
        "    log_step_count_steps = 500,\n",
        "    tf_random_seed=2020         # for reproducibility\n",
        ")\n",
        "\n",
        "train_spec = tf.estimator.TrainSpec(\n",
        "    input_fn=make_train_input_fn(train_data,\n",
        "                                 train_data,\n",
        "                                 batch_size=batch_size),\n",
        "    max_steps=max_steps)\n",
        "\n",
        "eval_spec = tf.estimator.EvalSpec(\n",
        "    input_fn=make_eval_input_fn(eval_data,\n",
        "                                eval_data),\n",
        "    steps=None,          # use complete eval set\n",
        "    start_delay_secs=0,  # start immediately\n",
        "    throttle_secs=10)    # minimum delay between evaluations\n",
        "\n",
        "decoder_config = [ item for item in encoder_config[::-1] ]\n",
        "\n",
        "optimizer = tf.train.AdagradOptimizer(learning_rate=learning_rate)\n",
        "classifier = tf.estimator.Estimator(\n",
        "  model_fn=make_model_fn(optimizer, encoder_config, decoder_config),\n",
        "  model_dir=MODEL_DIR,\n",
        "  config=my_checkpointing_config\n",
        ")\n"
      ],
      "execution_count": 12,
      "outputs": [
        {
          "output_type": "stream",
          "text": [
            "INFO:tensorflow:Using config: {'_model_dir': '/tmp/mnist_convnet_model/20190511_090410', '_tf_random_seed': 2020, '_save_summary_steps': 100, '_save_checkpoints_steps': 2000, '_save_checkpoints_secs': None, '_session_config': allow_soft_placement: true\n",
            "graph_options {\n",
            "  rewrite_options {\n",
            "    meta_optimizer_iterations: ONE\n",
            "  }\n",
            "}\n",
            ", '_keep_checkpoint_max': 5, '_keep_checkpoint_every_n_hours': 10000, '_log_step_count_steps': 500, '_train_distribute': None, '_device_fn': None, '_protocol': None, '_eval_distribute': None, '_experimental_distribute': None, '_service': None, '_cluster_spec': <tensorflow.python.training.server_lib.ClusterSpec object at 0x7fdc608d6c18>, '_task_type': 'worker', '_task_id': 0, '_global_id_in_cluster': 0, '_master': '', '_evaluation_master': '', '_is_chief': True, '_num_ps_replicas': 0, '_num_worker_replicas': 1}\n",
            "WARNING:tensorflow:Estimator's model_fn (<function make_model_fn.<locals>._model_fn at 0x7fdc60898048>) includes params argument, but params are not passed to Estimator.\n"
          ],
          "name": "stdout"
        }
      ]
    },
    {
      "cell_type": "markdown",
      "metadata": {
        "id": "6cQXA_4Pt4uQ",
        "colab_type": "text"
      },
      "source": [
        "# Start Training"
      ]
    },
    {
      "cell_type": "code",
      "metadata": {
        "id": "udsKrv2Kt0nq",
        "colab_type": "code",
        "outputId": "6692103a-e7fd-45d9-e0e9-38537964b9bb",
        "colab": {
          "base_uri": "https://localhost:8080/",
          "height": 8794
        }
      },
      "source": [
        "tf.estimator.train_and_evaluate(classifier, train_spec, eval_spec)"
      ],
      "execution_count": 13,
      "outputs": [
        {
          "output_type": "stream",
          "text": [
            "INFO:tensorflow:Not using Distribute Coordinator.\n",
            "INFO:tensorflow:Running training and evaluation locally (non-distributed).\n",
            "INFO:tensorflow:Start train and evaluate loop. The evaluate will happen after every checkpoint. Checkpoint frequency is determined based on RunConfig arguments: save_checkpoints_steps 2000 or save_checkpoints_secs None.\n",
            "WARNING:tensorflow:From /usr/local/lib/python3.6/dist-packages/tensorflow/python/framework/op_def_library.py:263: colocate_with (from tensorflow.python.framework.ops) is deprecated and will be removed in a future version.\n",
            "Instructions for updating:\n",
            "Colocations handled automatically by placer.\n",
            "WARNING:tensorflow:From /usr/local/lib/python3.6/dist-packages/tensorflow_estimator/python/estimator/inputs/queues/feeding_queue_runner.py:62: QueueRunner.__init__ (from tensorflow.python.training.queue_runner_impl) is deprecated and will be removed in a future version.\n",
            "Instructions for updating:\n",
            "To construct input pipelines, use the `tf.data` module.\n",
            "WARNING:tensorflow:From /usr/local/lib/python3.6/dist-packages/tensorflow_estimator/python/estimator/inputs/queues/feeding_functions.py:500: add_queue_runner (from tensorflow.python.training.queue_runner_impl) is deprecated and will be removed in a future version.\n",
            "Instructions for updating:\n",
            "To construct input pipelines, use the `tf.data` module.\n",
            "INFO:tensorflow:Calling model_fn.\n",
            "1 fifo_queue_DequeueMany:1 (256, 28, 28, 1)\n",
            "2 encoder/conv_pool/conv/BiasAdd:0 (256, 28, 28, 16)\n",
            "3 encoder/conv_pool/pool/MaxPool:0 (256, 14, 14, 16)\n",
            "4 encoder/conv_pool_1/conv/BiasAdd:0 (256, 14, 14, 16)\n",
            "5 encoder/conv_pool_1/pool/MaxPool:0 (256, 14, 14, 16)\n",
            "6 encoder/conv_pool_2/conv/BiasAdd:0 (256, 14, 14, 32)\n",
            "7 encoder/conv_pool_2/pool/MaxPool:0 (256, 7, 7, 32)\n",
            "8 encoder/conv_pool_3/conv/BiasAdd:0 (256, 7, 7, 32)\n",
            "9 encoder/conv_pool_3/pool/MaxPool:0 (256, 7, 7, 32)\n",
            "10 encoder/conv_pool_4/conv/BiasAdd:0 (256, 7, 7, 16)\n",
            "11 encoder/conv_pool_4/pool/MaxPool:0 (256, 7, 7, 16)\n",
            "12 encoder/conv_pool_5/conv/BiasAdd:0 (256, 7, 7, 8)\n",
            "13 encoder/conv_pool_5/pool/MaxPool:0 (256, 7, 7, 8)\n",
            "14 embeddings/Reshape:0 (256, 392)\n",
            "15 reshape/Reshape:0 (256, 7, 7, 8)\n",
            "16 decoder/conv_upsample/conv/BiasAdd:0 (256, 7, 7, 8)\n",
            "17 decoder/conv_upsample/upsample/ResizeNearestNeighbor:0 (256, 7, 7, 8)\n",
            "18 decoder/conv_upsample_1/conv/BiasAdd:0 (256, 7, 7, 16)\n",
            "19 decoder/conv_upsample_1/upsample/ResizeNearestNeighbor:0 (256, 7, 7, 16)\n",
            "20 decoder/conv_upsample_2/conv/BiasAdd:0 (256, 7, 7, 32)\n",
            "21 decoder/conv_upsample_2/upsample/ResizeNearestNeighbor:0 (256, 7, 7, 32)\n",
            "22 decoder/conv_upsample_3/conv/BiasAdd:0 (256, 7, 7, 32)\n",
            "23 decoder/conv_upsample_3/upsample/ResizeNearestNeighbor:0 (256, 14, 14, 32)\n",
            "24 decoder/conv_upsample_4/conv/BiasAdd:0 (256, 14, 14, 16)\n",
            "25 decoder/conv_upsample_4/upsample/ResizeNearestNeighbor:0 (256, 14, 14, 16)\n",
            "26 decoder/conv_upsample_5/conv/BiasAdd:0 (256, 14, 14, 16)\n",
            "27 decoder/conv_upsample_5/upsample/ResizeNearestNeighbor:0 (256, 28, 28, 16)\n",
            "28 reconstructed/Sigmoid:0 (256, 28, 28, 1)\n",
            "WARNING:tensorflow:From /usr/local/lib/python3.6/dist-packages/tensorflow/python/ops/metrics_impl.py:363: to_float (from tensorflow.python.ops.math_ops) is deprecated and will be removed in a future version.\n",
            "Instructions for updating:\n",
            "Use tf.cast instead.\n",
            "INFO:tensorflow:Done calling model_fn.\n",
            "INFO:tensorflow:Create CheckpointSaverHook.\n",
            "INFO:tensorflow:Graph was finalized.\n",
            "INFO:tensorflow:Running local_init_op.\n",
            "INFO:tensorflow:Done running local_init_op.\n",
            "WARNING:tensorflow:From /usr/local/lib/python3.6/dist-packages/tensorflow/python/training/monitored_session.py:809: start_queue_runners (from tensorflow.python.training.queue_runner_impl) is deprecated and will be removed in a future version.\n",
            "Instructions for updating:\n",
            "To construct input pipelines, use the `tf.data` module.\n",
            "INFO:tensorflow:Saving checkpoints for 0 into /tmp/mnist_convnet_model/20190511_090410/model.ckpt.\n",
            "INFO:tensorflow:loss = 0.2370208, step = 0\n",
            "INFO:tensorflow:global_step/sec: 97.9717\n",
            "INFO:tensorflow:loss = 0.012884765, step = 500 (5.108 sec)\n",
            "INFO:tensorflow:global_step/sec: 98.7759\n",
            "INFO:tensorflow:loss = 0.008347157, step = 1000 (5.063 sec)\n",
            "INFO:tensorflow:global_step/sec: 97.0486\n",
            "INFO:tensorflow:loss = 0.008101385, step = 1500 (5.148 sec)\n",
            "INFO:tensorflow:Saving checkpoints for 2000 into /tmp/mnist_convnet_model/20190511_090410/model.ckpt.\n",
            "INFO:tensorflow:Calling model_fn.\n",
            "1 fifo_queue_DequeueUpTo:1 (?, 28, 28, 1)\n",
            "2 encoder/conv_pool/conv/BiasAdd:0 (?, 28, 28, 16)\n",
            "3 encoder/conv_pool/pool/MaxPool:0 (?, 14, 14, 16)\n",
            "4 encoder/conv_pool_1/conv/BiasAdd:0 (?, 14, 14, 16)\n",
            "5 encoder/conv_pool_1/pool/MaxPool:0 (?, 14, 14, 16)\n",
            "6 encoder/conv_pool_2/conv/BiasAdd:0 (?, 14, 14, 32)\n",
            "7 encoder/conv_pool_2/pool/MaxPool:0 (?, 7, 7, 32)\n",
            "8 encoder/conv_pool_3/conv/BiasAdd:0 (?, 7, 7, 32)\n",
            "9 encoder/conv_pool_3/pool/MaxPool:0 (?, 7, 7, 32)\n",
            "10 encoder/conv_pool_4/conv/BiasAdd:0 (?, 7, 7, 16)\n",
            "11 encoder/conv_pool_4/pool/MaxPool:0 (?, 7, 7, 16)\n",
            "12 encoder/conv_pool_5/conv/BiasAdd:0 (?, 7, 7, 8)\n",
            "13 encoder/conv_pool_5/pool/MaxPool:0 (?, 7, 7, 8)\n",
            "14 embeddings/Reshape:0 (?, 392)\n",
            "15 reshape/Reshape:0 (?, 7, 7, 8)\n",
            "16 decoder/conv_upsample/conv/BiasAdd:0 (?, 7, 7, 8)\n",
            "17 decoder/conv_upsample/upsample/ResizeNearestNeighbor:0 (?, 7, 7, 8)\n",
            "18 decoder/conv_upsample_1/conv/BiasAdd:0 (?, 7, 7, 16)\n",
            "19 decoder/conv_upsample_1/upsample/ResizeNearestNeighbor:0 (?, 7, 7, 16)\n",
            "20 decoder/conv_upsample_2/conv/BiasAdd:0 (?, 7, 7, 32)\n",
            "21 decoder/conv_upsample_2/upsample/ResizeNearestNeighbor:0 (?, 7, 7, 32)\n",
            "22 decoder/conv_upsample_3/conv/BiasAdd:0 (?, 7, 7, 32)\n",
            "23 decoder/conv_upsample_3/upsample/ResizeNearestNeighbor:0 (?, 14, 14, 32)\n",
            "24 decoder/conv_upsample_4/conv/BiasAdd:0 (?, 14, 14, 16)\n",
            "25 decoder/conv_upsample_4/upsample/ResizeNearestNeighbor:0 (?, 14, 14, 16)\n",
            "26 decoder/conv_upsample_5/conv/BiasAdd:0 (?, 14, 14, 16)\n",
            "27 decoder/conv_upsample_5/upsample/ResizeNearestNeighbor:0 (?, 28, 28, 16)\n",
            "28 reconstructed/Sigmoid:0 (?, 28, 28, 1)\n",
            "INFO:tensorflow:Done calling model_fn.\n",
            "INFO:tensorflow:Starting evaluation at 2019-05-11T09:04:43Z\n",
            "INFO:tensorflow:Graph was finalized.\n",
            "WARNING:tensorflow:From /usr/local/lib/python3.6/dist-packages/tensorflow/python/training/saver.py:1266: checkpoint_exists (from tensorflow.python.training.checkpoint_management) is deprecated and will be removed in a future version.\n",
            "Instructions for updating:\n",
            "Use standard file APIs to check for files with this prefix.\n",
            "INFO:tensorflow:Restoring parameters from /tmp/mnist_convnet_model/20190511_090410/model.ckpt-2000\n",
            "INFO:tensorflow:Running local_init_op.\n",
            "INFO:tensorflow:Done running local_init_op.\n",
            "INFO:tensorflow:Finished evaluation at 2019-05-11-09:04:44\n",
            "INFO:tensorflow:Saving dict for global step 2000: global_step = 2000, loss = 0.007074333, mae = 0.030233622\n",
            "INFO:tensorflow:Saving 'checkpoint_path' summary for global step 2000: /tmp/mnist_convnet_model/20190511_090410/model.ckpt-2000\n",
            "INFO:tensorflow:global_step/sec: 80.8297\n",
            "INFO:tensorflow:loss = 0.007786713, step = 2000 (6.187 sec)\n",
            "INFO:tensorflow:global_step/sec: 99.6509\n",
            "INFO:tensorflow:loss = 0.006954248, step = 2500 (5.019 sec)\n",
            "INFO:tensorflow:global_step/sec: 98.7829\n",
            "INFO:tensorflow:loss = 0.0058522723, step = 3000 (5.059 sec)\n",
            "INFO:tensorflow:global_step/sec: 97.6868\n",
            "INFO:tensorflow:loss = 0.0060515623, step = 3500 (5.119 sec)\n",
            "INFO:tensorflow:Saving checkpoints for 4000 into /tmp/mnist_convnet_model/20190511_090410/model.ckpt.\n",
            "INFO:tensorflow:Calling model_fn.\n",
            "1 fifo_queue_DequeueUpTo:1 (?, 28, 28, 1)\n",
            "2 encoder/conv_pool/conv/BiasAdd:0 (?, 28, 28, 16)\n",
            "3 encoder/conv_pool/pool/MaxPool:0 (?, 14, 14, 16)\n",
            "4 encoder/conv_pool_1/conv/BiasAdd:0 (?, 14, 14, 16)\n",
            "5 encoder/conv_pool_1/pool/MaxPool:0 (?, 14, 14, 16)\n",
            "6 encoder/conv_pool_2/conv/BiasAdd:0 (?, 14, 14, 32)\n",
            "7 encoder/conv_pool_2/pool/MaxPool:0 (?, 7, 7, 32)\n",
            "8 encoder/conv_pool_3/conv/BiasAdd:0 (?, 7, 7, 32)\n",
            "9 encoder/conv_pool_3/pool/MaxPool:0 (?, 7, 7, 32)\n",
            "10 encoder/conv_pool_4/conv/BiasAdd:0 (?, 7, 7, 16)\n",
            "11 encoder/conv_pool_4/pool/MaxPool:0 (?, 7, 7, 16)\n",
            "12 encoder/conv_pool_5/conv/BiasAdd:0 (?, 7, 7, 8)\n",
            "13 encoder/conv_pool_5/pool/MaxPool:0 (?, 7, 7, 8)\n",
            "14 embeddings/Reshape:0 (?, 392)\n",
            "15 reshape/Reshape:0 (?, 7, 7, 8)\n",
            "16 decoder/conv_upsample/conv/BiasAdd:0 (?, 7, 7, 8)\n",
            "17 decoder/conv_upsample/upsample/ResizeNearestNeighbor:0 (?, 7, 7, 8)\n",
            "18 decoder/conv_upsample_1/conv/BiasAdd:0 (?, 7, 7, 16)\n",
            "19 decoder/conv_upsample_1/upsample/ResizeNearestNeighbor:0 (?, 7, 7, 16)\n",
            "20 decoder/conv_upsample_2/conv/BiasAdd:0 (?, 7, 7, 32)\n",
            "21 decoder/conv_upsample_2/upsample/ResizeNearestNeighbor:0 (?, 7, 7, 32)\n",
            "22 decoder/conv_upsample_3/conv/BiasAdd:0 (?, 7, 7, 32)\n",
            "23 decoder/conv_upsample_3/upsample/ResizeNearestNeighbor:0 (?, 14, 14, 32)\n",
            "24 decoder/conv_upsample_4/conv/BiasAdd:0 (?, 14, 14, 16)\n",
            "25 decoder/conv_upsample_4/upsample/ResizeNearestNeighbor:0 (?, 14, 14, 16)\n",
            "26 decoder/conv_upsample_5/conv/BiasAdd:0 (?, 14, 14, 16)\n",
            "27 decoder/conv_upsample_5/upsample/ResizeNearestNeighbor:0 (?, 28, 28, 16)\n",
            "28 reconstructed/Sigmoid:0 (?, 28, 28, 1)\n",
            "INFO:tensorflow:Done calling model_fn.\n",
            "INFO:tensorflow:Starting evaluation at 2019-05-11T09:05:05Z\n",
            "INFO:tensorflow:Graph was finalized.\n",
            "INFO:tensorflow:Restoring parameters from /tmp/mnist_convnet_model/20190511_090410/model.ckpt-4000\n",
            "INFO:tensorflow:Running local_init_op.\n",
            "INFO:tensorflow:Done running local_init_op.\n",
            "INFO:tensorflow:Finished evaluation at 2019-05-11-09:05:05\n",
            "INFO:tensorflow:Saving dict for global step 4000: global_step = 4000, loss = 0.0055516497, mae = 0.025973845\n",
            "INFO:tensorflow:Saving 'checkpoint_path' summary for global step 4000: /tmp/mnist_convnet_model/20190511_090410/model.ckpt-4000\n",
            "INFO:tensorflow:global_step/sec: 80.7255\n",
            "INFO:tensorflow:loss = 0.0053268247, step = 4000 (6.195 sec)\n",
            "INFO:tensorflow:global_step/sec: 98.5257\n",
            "INFO:tensorflow:loss = 0.0049053184, step = 4500 (5.074 sec)\n",
            "INFO:tensorflow:global_step/sec: 98.2415\n",
            "INFO:tensorflow:loss = 0.0049014455, step = 5000 (5.092 sec)\n",
            "INFO:tensorflow:global_step/sec: 97.7724\n",
            "INFO:tensorflow:loss = 0.0044698957, step = 5500 (5.111 sec)\n",
            "INFO:tensorflow:Saving checkpoints for 6000 into /tmp/mnist_convnet_model/20190511_090410/model.ckpt.\n",
            "INFO:tensorflow:Calling model_fn.\n",
            "1 fifo_queue_DequeueUpTo:1 (?, 28, 28, 1)\n",
            "2 encoder/conv_pool/conv/BiasAdd:0 (?, 28, 28, 16)\n",
            "3 encoder/conv_pool/pool/MaxPool:0 (?, 14, 14, 16)\n",
            "4 encoder/conv_pool_1/conv/BiasAdd:0 (?, 14, 14, 16)\n",
            "5 encoder/conv_pool_1/pool/MaxPool:0 (?, 14, 14, 16)\n",
            "6 encoder/conv_pool_2/conv/BiasAdd:0 (?, 14, 14, 32)\n",
            "7 encoder/conv_pool_2/pool/MaxPool:0 (?, 7, 7, 32)\n",
            "8 encoder/conv_pool_3/conv/BiasAdd:0 (?, 7, 7, 32)\n",
            "9 encoder/conv_pool_3/pool/MaxPool:0 (?, 7, 7, 32)\n",
            "10 encoder/conv_pool_4/conv/BiasAdd:0 (?, 7, 7, 16)\n",
            "11 encoder/conv_pool_4/pool/MaxPool:0 (?, 7, 7, 16)\n",
            "12 encoder/conv_pool_5/conv/BiasAdd:0 (?, 7, 7, 8)\n",
            "13 encoder/conv_pool_5/pool/MaxPool:0 (?, 7, 7, 8)\n",
            "14 embeddings/Reshape:0 (?, 392)\n",
            "15 reshape/Reshape:0 (?, 7, 7, 8)\n",
            "16 decoder/conv_upsample/conv/BiasAdd:0 (?, 7, 7, 8)\n",
            "17 decoder/conv_upsample/upsample/ResizeNearestNeighbor:0 (?, 7, 7, 8)\n",
            "18 decoder/conv_upsample_1/conv/BiasAdd:0 (?, 7, 7, 16)\n",
            "19 decoder/conv_upsample_1/upsample/ResizeNearestNeighbor:0 (?, 7, 7, 16)\n",
            "20 decoder/conv_upsample_2/conv/BiasAdd:0 (?, 7, 7, 32)\n",
            "21 decoder/conv_upsample_2/upsample/ResizeNearestNeighbor:0 (?, 7, 7, 32)\n",
            "22 decoder/conv_upsample_3/conv/BiasAdd:0 (?, 7, 7, 32)\n",
            "23 decoder/conv_upsample_3/upsample/ResizeNearestNeighbor:0 (?, 14, 14, 32)\n",
            "24 decoder/conv_upsample_4/conv/BiasAdd:0 (?, 14, 14, 16)\n",
            "25 decoder/conv_upsample_4/upsample/ResizeNearestNeighbor:0 (?, 14, 14, 16)\n",
            "26 decoder/conv_upsample_5/conv/BiasAdd:0 (?, 14, 14, 16)\n",
            "27 decoder/conv_upsample_5/upsample/ResizeNearestNeighbor:0 (?, 28, 28, 16)\n",
            "28 reconstructed/Sigmoid:0 (?, 28, 28, 1)\n",
            "INFO:tensorflow:Done calling model_fn.\n",
            "INFO:tensorflow:Starting evaluation at 2019-05-11T09:05:26Z\n",
            "INFO:tensorflow:Graph was finalized.\n",
            "INFO:tensorflow:Restoring parameters from /tmp/mnist_convnet_model/20190511_090410/model.ckpt-6000\n",
            "INFO:tensorflow:Running local_init_op.\n",
            "INFO:tensorflow:Done running local_init_op.\n",
            "INFO:tensorflow:Finished evaluation at 2019-05-11-09:05:27\n",
            "INFO:tensorflow:Saving dict for global step 6000: global_step = 6000, loss = 0.004855229, mae = 0.023759302\n",
            "INFO:tensorflow:Saving 'checkpoint_path' summary for global step 6000: /tmp/mnist_convnet_model/20190511_090410/model.ckpt-6000\n",
            "INFO:tensorflow:global_step/sec: 81.4348\n",
            "INFO:tensorflow:loss = 0.005367334, step = 6000 (6.141 sec)\n",
            "INFO:tensorflow:global_step/sec: 96.8466\n",
            "INFO:tensorflow:loss = 0.005752532, step = 6500 (5.164 sec)\n",
            "INFO:tensorflow:global_step/sec: 96.0905\n",
            "INFO:tensorflow:loss = 0.0052953823, step = 7000 (5.201 sec)\n",
            "INFO:tensorflow:global_step/sec: 96.1144\n",
            "INFO:tensorflow:loss = 0.0045254403, step = 7500 (5.204 sec)\n",
            "INFO:tensorflow:Saving checkpoints for 8000 into /tmp/mnist_convnet_model/20190511_090410/model.ckpt.\n",
            "INFO:tensorflow:Calling model_fn.\n",
            "1 fifo_queue_DequeueUpTo:1 (?, 28, 28, 1)\n",
            "2 encoder/conv_pool/conv/BiasAdd:0 (?, 28, 28, 16)\n",
            "3 encoder/conv_pool/pool/MaxPool:0 (?, 14, 14, 16)\n",
            "4 encoder/conv_pool_1/conv/BiasAdd:0 (?, 14, 14, 16)\n",
            "5 encoder/conv_pool_1/pool/MaxPool:0 (?, 14, 14, 16)\n",
            "6 encoder/conv_pool_2/conv/BiasAdd:0 (?, 14, 14, 32)\n",
            "7 encoder/conv_pool_2/pool/MaxPool:0 (?, 7, 7, 32)\n",
            "8 encoder/conv_pool_3/conv/BiasAdd:0 (?, 7, 7, 32)\n",
            "9 encoder/conv_pool_3/pool/MaxPool:0 (?, 7, 7, 32)\n",
            "10 encoder/conv_pool_4/conv/BiasAdd:0 (?, 7, 7, 16)\n",
            "11 encoder/conv_pool_4/pool/MaxPool:0 (?, 7, 7, 16)\n",
            "12 encoder/conv_pool_5/conv/BiasAdd:0 (?, 7, 7, 8)\n",
            "13 encoder/conv_pool_5/pool/MaxPool:0 (?, 7, 7, 8)\n",
            "14 embeddings/Reshape:0 (?, 392)\n",
            "15 reshape/Reshape:0 (?, 7, 7, 8)\n",
            "16 decoder/conv_upsample/conv/BiasAdd:0 (?, 7, 7, 8)\n",
            "17 decoder/conv_upsample/upsample/ResizeNearestNeighbor:0 (?, 7, 7, 8)\n",
            "18 decoder/conv_upsample_1/conv/BiasAdd:0 (?, 7, 7, 16)\n",
            "19 decoder/conv_upsample_1/upsample/ResizeNearestNeighbor:0 (?, 7, 7, 16)\n",
            "20 decoder/conv_upsample_2/conv/BiasAdd:0 (?, 7, 7, 32)\n",
            "21 decoder/conv_upsample_2/upsample/ResizeNearestNeighbor:0 (?, 7, 7, 32)\n",
            "22 decoder/conv_upsample_3/conv/BiasAdd:0 (?, 7, 7, 32)\n",
            "23 decoder/conv_upsample_3/upsample/ResizeNearestNeighbor:0 (?, 14, 14, 32)\n",
            "24 decoder/conv_upsample_4/conv/BiasAdd:0 (?, 14, 14, 16)\n",
            "25 decoder/conv_upsample_4/upsample/ResizeNearestNeighbor:0 (?, 14, 14, 16)\n",
            "26 decoder/conv_upsample_5/conv/BiasAdd:0 (?, 14, 14, 16)\n",
            "27 decoder/conv_upsample_5/upsample/ResizeNearestNeighbor:0 (?, 28, 28, 16)\n",
            "28 reconstructed/Sigmoid:0 (?, 28, 28, 1)\n",
            "INFO:tensorflow:Done calling model_fn.\n",
            "INFO:tensorflow:Starting evaluation at 2019-05-11T09:05:48Z\n",
            "INFO:tensorflow:Graph was finalized.\n",
            "INFO:tensorflow:Restoring parameters from /tmp/mnist_convnet_model/20190511_090410/model.ckpt-8000\n",
            "INFO:tensorflow:Running local_init_op.\n",
            "INFO:tensorflow:Done running local_init_op.\n",
            "INFO:tensorflow:Finished evaluation at 2019-05-11-09:05:49\n",
            "INFO:tensorflow:Saving dict for global step 8000: global_step = 8000, loss = 0.004425337, mae = 0.022360966\n",
            "INFO:tensorflow:Saving 'checkpoint_path' summary for global step 8000: /tmp/mnist_convnet_model/20190511_090410/model.ckpt-8000\n",
            "INFO:tensorflow:global_step/sec: 78.8309\n",
            "INFO:tensorflow:loss = 0.004570045, step = 8000 (6.340 sec)\n",
            "INFO:tensorflow:global_step/sec: 95.2159\n",
            "INFO:tensorflow:loss = 0.0040579177, step = 8500 (5.256 sec)\n",
            "INFO:tensorflow:global_step/sec: 95.5909\n",
            "INFO:tensorflow:loss = 0.0043039913, step = 9000 (5.228 sec)\n",
            "INFO:tensorflow:global_step/sec: 95.7943\n",
            "INFO:tensorflow:loss = 0.004540197, step = 9500 (5.217 sec)\n",
            "INFO:tensorflow:Saving checkpoints for 10000 into /tmp/mnist_convnet_model/20190511_090410/model.ckpt.\n",
            "WARNING:tensorflow:From /usr/local/lib/python3.6/dist-packages/tensorflow/python/training/saver.py:966: remove_checkpoint (from tensorflow.python.training.checkpoint_management) is deprecated and will be removed in a future version.\n",
            "Instructions for updating:\n",
            "Use standard file APIs to delete files with this prefix.\n",
            "INFO:tensorflow:Calling model_fn.\n",
            "1 fifo_queue_DequeueUpTo:1 (?, 28, 28, 1)\n",
            "2 encoder/conv_pool/conv/BiasAdd:0 (?, 28, 28, 16)\n",
            "3 encoder/conv_pool/pool/MaxPool:0 (?, 14, 14, 16)\n",
            "4 encoder/conv_pool_1/conv/BiasAdd:0 (?, 14, 14, 16)\n",
            "5 encoder/conv_pool_1/pool/MaxPool:0 (?, 14, 14, 16)\n",
            "6 encoder/conv_pool_2/conv/BiasAdd:0 (?, 14, 14, 32)\n",
            "7 encoder/conv_pool_2/pool/MaxPool:0 (?, 7, 7, 32)\n",
            "8 encoder/conv_pool_3/conv/BiasAdd:0 (?, 7, 7, 32)\n",
            "9 encoder/conv_pool_3/pool/MaxPool:0 (?, 7, 7, 32)\n",
            "10 encoder/conv_pool_4/conv/BiasAdd:0 (?, 7, 7, 16)\n",
            "11 encoder/conv_pool_4/pool/MaxPool:0 (?, 7, 7, 16)\n",
            "12 encoder/conv_pool_5/conv/BiasAdd:0 (?, 7, 7, 8)\n",
            "13 encoder/conv_pool_5/pool/MaxPool:0 (?, 7, 7, 8)\n",
            "14 embeddings/Reshape:0 (?, 392)\n",
            "15 reshape/Reshape:0 (?, 7, 7, 8)\n",
            "16 decoder/conv_upsample/conv/BiasAdd:0 (?, 7, 7, 8)\n",
            "17 decoder/conv_upsample/upsample/ResizeNearestNeighbor:0 (?, 7, 7, 8)\n",
            "18 decoder/conv_upsample_1/conv/BiasAdd:0 (?, 7, 7, 16)\n",
            "19 decoder/conv_upsample_1/upsample/ResizeNearestNeighbor:0 (?, 7, 7, 16)\n",
            "20 decoder/conv_upsample_2/conv/BiasAdd:0 (?, 7, 7, 32)\n",
            "21 decoder/conv_upsample_2/upsample/ResizeNearestNeighbor:0 (?, 7, 7, 32)\n",
            "22 decoder/conv_upsample_3/conv/BiasAdd:0 (?, 7, 7, 32)\n",
            "23 decoder/conv_upsample_3/upsample/ResizeNearestNeighbor:0 (?, 14, 14, 32)\n",
            "24 decoder/conv_upsample_4/conv/BiasAdd:0 (?, 14, 14, 16)\n",
            "25 decoder/conv_upsample_4/upsample/ResizeNearestNeighbor:0 (?, 14, 14, 16)\n",
            "26 decoder/conv_upsample_5/conv/BiasAdd:0 (?, 14, 14, 16)\n",
            "27 decoder/conv_upsample_5/upsample/ResizeNearestNeighbor:0 (?, 28, 28, 16)\n",
            "28 reconstructed/Sigmoid:0 (?, 28, 28, 1)\n",
            "INFO:tensorflow:Done calling model_fn.\n",
            "INFO:tensorflow:Starting evaluation at 2019-05-11T09:06:10Z\n",
            "INFO:tensorflow:Graph was finalized.\n",
            "INFO:tensorflow:Restoring parameters from /tmp/mnist_convnet_model/20190511_090410/model.ckpt-10000\n",
            "INFO:tensorflow:Running local_init_op.\n",
            "INFO:tensorflow:Done running local_init_op.\n",
            "INFO:tensorflow:Finished evaluation at 2019-05-11-09:06:11\n",
            "INFO:tensorflow:Saving dict for global step 10000: global_step = 10000, loss = 0.0041345516, mae = 0.021540869\n",
            "INFO:tensorflow:Saving 'checkpoint_path' summary for global step 10000: /tmp/mnist_convnet_model/20190511_090410/model.ckpt-10000\n",
            "INFO:tensorflow:global_step/sec: 80.9793\n",
            "INFO:tensorflow:loss = 0.0042290585, step = 10000 (6.174 sec)\n",
            "INFO:tensorflow:global_step/sec: 95.5683\n",
            "INFO:tensorflow:loss = 0.0039889477, step = 10500 (5.236 sec)\n",
            "INFO:tensorflow:global_step/sec: 94.8426\n",
            "INFO:tensorflow:loss = 0.0041976846, step = 11000 (5.272 sec)\n",
            "INFO:tensorflow:global_step/sec: 96.4451\n",
            "INFO:tensorflow:loss = 0.0037980755, step = 11500 (5.181 sec)\n",
            "INFO:tensorflow:Saving checkpoints for 12000 into /tmp/mnist_convnet_model/20190511_090410/model.ckpt.\n",
            "INFO:tensorflow:Calling model_fn.\n",
            "1 fifo_queue_DequeueUpTo:1 (?, 28, 28, 1)\n",
            "2 encoder/conv_pool/conv/BiasAdd:0 (?, 28, 28, 16)\n",
            "3 encoder/conv_pool/pool/MaxPool:0 (?, 14, 14, 16)\n",
            "4 encoder/conv_pool_1/conv/BiasAdd:0 (?, 14, 14, 16)\n",
            "5 encoder/conv_pool_1/pool/MaxPool:0 (?, 14, 14, 16)\n",
            "6 encoder/conv_pool_2/conv/BiasAdd:0 (?, 14, 14, 32)\n",
            "7 encoder/conv_pool_2/pool/MaxPool:0 (?, 7, 7, 32)\n",
            "8 encoder/conv_pool_3/conv/BiasAdd:0 (?, 7, 7, 32)\n",
            "9 encoder/conv_pool_3/pool/MaxPool:0 (?, 7, 7, 32)\n",
            "10 encoder/conv_pool_4/conv/BiasAdd:0 (?, 7, 7, 16)\n",
            "11 encoder/conv_pool_4/pool/MaxPool:0 (?, 7, 7, 16)\n",
            "12 encoder/conv_pool_5/conv/BiasAdd:0 (?, 7, 7, 8)\n",
            "13 encoder/conv_pool_5/pool/MaxPool:0 (?, 7, 7, 8)\n",
            "14 embeddings/Reshape:0 (?, 392)\n",
            "15 reshape/Reshape:0 (?, 7, 7, 8)\n",
            "16 decoder/conv_upsample/conv/BiasAdd:0 (?, 7, 7, 8)\n",
            "17 decoder/conv_upsample/upsample/ResizeNearestNeighbor:0 (?, 7, 7, 8)\n",
            "18 decoder/conv_upsample_1/conv/BiasAdd:0 (?, 7, 7, 16)\n",
            "19 decoder/conv_upsample_1/upsample/ResizeNearestNeighbor:0 (?, 7, 7, 16)\n",
            "20 decoder/conv_upsample_2/conv/BiasAdd:0 (?, 7, 7, 32)\n",
            "21 decoder/conv_upsample_2/upsample/ResizeNearestNeighbor:0 (?, 7, 7, 32)\n",
            "22 decoder/conv_upsample_3/conv/BiasAdd:0 (?, 7, 7, 32)\n",
            "23 decoder/conv_upsample_3/upsample/ResizeNearestNeighbor:0 (?, 14, 14, 32)\n",
            "24 decoder/conv_upsample_4/conv/BiasAdd:0 (?, 14, 14, 16)\n",
            "25 decoder/conv_upsample_4/upsample/ResizeNearestNeighbor:0 (?, 14, 14, 16)\n",
            "26 decoder/conv_upsample_5/conv/BiasAdd:0 (?, 14, 14, 16)\n",
            "27 decoder/conv_upsample_5/upsample/ResizeNearestNeighbor:0 (?, 28, 28, 16)\n",
            "28 reconstructed/Sigmoid:0 (?, 28, 28, 1)\n",
            "INFO:tensorflow:Done calling model_fn.\n",
            "INFO:tensorflow:Starting evaluation at 2019-05-11T09:06:32Z\n",
            "INFO:tensorflow:Graph was finalized.\n",
            "INFO:tensorflow:Restoring parameters from /tmp/mnist_convnet_model/20190511_090410/model.ckpt-12000\n",
            "INFO:tensorflow:Running local_init_op.\n",
            "INFO:tensorflow:Done running local_init_op.\n",
            "INFO:tensorflow:Finished evaluation at 2019-05-11-09:06:33\n",
            "INFO:tensorflow:Saving dict for global step 12000: global_step = 12000, loss = 0.0039088284, mae = 0.020874321\n",
            "INFO:tensorflow:Saving 'checkpoint_path' summary for global step 12000: /tmp/mnist_convnet_model/20190511_090410/model.ckpt-12000\n",
            "INFO:tensorflow:global_step/sec: 79.7315\n",
            "INFO:tensorflow:loss = 0.0035652888, step = 12000 (6.270 sec)\n",
            "INFO:tensorflow:global_step/sec: 97.0704\n",
            "INFO:tensorflow:loss = 0.00366904, step = 12500 (5.151 sec)\n",
            "INFO:tensorflow:global_step/sec: 96.722\n",
            "INFO:tensorflow:loss = 0.0034677375, step = 13000 (5.172 sec)\n",
            "INFO:tensorflow:global_step/sec: 96.8138\n",
            "INFO:tensorflow:loss = 0.004174247, step = 13500 (5.164 sec)\n",
            "INFO:tensorflow:Saving checkpoints for 14000 into /tmp/mnist_convnet_model/20190511_090410/model.ckpt.\n",
            "INFO:tensorflow:Calling model_fn.\n",
            "1 fifo_queue_DequeueUpTo:1 (?, 28, 28, 1)\n",
            "2 encoder/conv_pool/conv/BiasAdd:0 (?, 28, 28, 16)\n",
            "3 encoder/conv_pool/pool/MaxPool:0 (?, 14, 14, 16)\n",
            "4 encoder/conv_pool_1/conv/BiasAdd:0 (?, 14, 14, 16)\n",
            "5 encoder/conv_pool_1/pool/MaxPool:0 (?, 14, 14, 16)\n",
            "6 encoder/conv_pool_2/conv/BiasAdd:0 (?, 14, 14, 32)\n",
            "7 encoder/conv_pool_2/pool/MaxPool:0 (?, 7, 7, 32)\n",
            "8 encoder/conv_pool_3/conv/BiasAdd:0 (?, 7, 7, 32)\n",
            "9 encoder/conv_pool_3/pool/MaxPool:0 (?, 7, 7, 32)\n",
            "10 encoder/conv_pool_4/conv/BiasAdd:0 (?, 7, 7, 16)\n",
            "11 encoder/conv_pool_4/pool/MaxPool:0 (?, 7, 7, 16)\n",
            "12 encoder/conv_pool_5/conv/BiasAdd:0 (?, 7, 7, 8)\n",
            "13 encoder/conv_pool_5/pool/MaxPool:0 (?, 7, 7, 8)\n",
            "14 embeddings/Reshape:0 (?, 392)\n",
            "15 reshape/Reshape:0 (?, 7, 7, 8)\n",
            "16 decoder/conv_upsample/conv/BiasAdd:0 (?, 7, 7, 8)\n",
            "17 decoder/conv_upsample/upsample/ResizeNearestNeighbor:0 (?, 7, 7, 8)\n",
            "18 decoder/conv_upsample_1/conv/BiasAdd:0 (?, 7, 7, 16)\n",
            "19 decoder/conv_upsample_1/upsample/ResizeNearestNeighbor:0 (?, 7, 7, 16)\n",
            "20 decoder/conv_upsample_2/conv/BiasAdd:0 (?, 7, 7, 32)\n",
            "21 decoder/conv_upsample_2/upsample/ResizeNearestNeighbor:0 (?, 7, 7, 32)\n",
            "22 decoder/conv_upsample_3/conv/BiasAdd:0 (?, 7, 7, 32)\n",
            "23 decoder/conv_upsample_3/upsample/ResizeNearestNeighbor:0 (?, 14, 14, 32)\n",
            "24 decoder/conv_upsample_4/conv/BiasAdd:0 (?, 14, 14, 16)\n",
            "25 decoder/conv_upsample_4/upsample/ResizeNearestNeighbor:0 (?, 14, 14, 16)\n",
            "26 decoder/conv_upsample_5/conv/BiasAdd:0 (?, 14, 14, 16)\n",
            "27 decoder/conv_upsample_5/upsample/ResizeNearestNeighbor:0 (?, 28, 28, 16)\n",
            "28 reconstructed/Sigmoid:0 (?, 28, 28, 1)\n",
            "INFO:tensorflow:Done calling model_fn.\n",
            "INFO:tensorflow:Starting evaluation at 2019-05-11T09:06:54Z\n",
            "INFO:tensorflow:Graph was finalized.\n",
            "INFO:tensorflow:Restoring parameters from /tmp/mnist_convnet_model/20190511_090410/model.ckpt-14000\n",
            "INFO:tensorflow:Running local_init_op.\n",
            "INFO:tensorflow:Done running local_init_op.\n",
            "INFO:tensorflow:Finished evaluation at 2019-05-11-09:06:54\n",
            "INFO:tensorflow:Saving dict for global step 14000: global_step = 14000, loss = 0.0037474614, mae = 0.020471035\n",
            "INFO:tensorflow:Saving 'checkpoint_path' summary for global step 14000: /tmp/mnist_convnet_model/20190511_090410/model.ckpt-14000\n",
            "INFO:tensorflow:global_step/sec: 79.6189\n",
            "INFO:tensorflow:loss = 0.0045474544, step = 14000 (6.279 sec)\n",
            "INFO:tensorflow:global_step/sec: 96.9265\n",
            "INFO:tensorflow:loss = 0.004247019, step = 14500 (5.159 sec)\n",
            "INFO:tensorflow:global_step/sec: 96.3465\n",
            "INFO:tensorflow:loss = 0.0037043921, step = 15000 (5.192 sec)\n",
            "INFO:tensorflow:global_step/sec: 96.6912\n",
            "INFO:tensorflow:loss = 0.0040154313, step = 15500 (5.171 sec)\n",
            "INFO:tensorflow:Saving checkpoints for 16000 into /tmp/mnist_convnet_model/20190511_090410/model.ckpt.\n",
            "INFO:tensorflow:Calling model_fn.\n",
            "1 fifo_queue_DequeueUpTo:1 (?, 28, 28, 1)\n",
            "2 encoder/conv_pool/conv/BiasAdd:0 (?, 28, 28, 16)\n",
            "3 encoder/conv_pool/pool/MaxPool:0 (?, 14, 14, 16)\n",
            "4 encoder/conv_pool_1/conv/BiasAdd:0 (?, 14, 14, 16)\n",
            "5 encoder/conv_pool_1/pool/MaxPool:0 (?, 14, 14, 16)\n",
            "6 encoder/conv_pool_2/conv/BiasAdd:0 (?, 14, 14, 32)\n",
            "7 encoder/conv_pool_2/pool/MaxPool:0 (?, 7, 7, 32)\n",
            "8 encoder/conv_pool_3/conv/BiasAdd:0 (?, 7, 7, 32)\n",
            "9 encoder/conv_pool_3/pool/MaxPool:0 (?, 7, 7, 32)\n",
            "10 encoder/conv_pool_4/conv/BiasAdd:0 (?, 7, 7, 16)\n",
            "11 encoder/conv_pool_4/pool/MaxPool:0 (?, 7, 7, 16)\n",
            "12 encoder/conv_pool_5/conv/BiasAdd:0 (?, 7, 7, 8)\n",
            "13 encoder/conv_pool_5/pool/MaxPool:0 (?, 7, 7, 8)\n",
            "14 embeddings/Reshape:0 (?, 392)\n",
            "15 reshape/Reshape:0 (?, 7, 7, 8)\n",
            "16 decoder/conv_upsample/conv/BiasAdd:0 (?, 7, 7, 8)\n",
            "17 decoder/conv_upsample/upsample/ResizeNearestNeighbor:0 (?, 7, 7, 8)\n",
            "18 decoder/conv_upsample_1/conv/BiasAdd:0 (?, 7, 7, 16)\n",
            "19 decoder/conv_upsample_1/upsample/ResizeNearestNeighbor:0 (?, 7, 7, 16)\n",
            "20 decoder/conv_upsample_2/conv/BiasAdd:0 (?, 7, 7, 32)\n",
            "21 decoder/conv_upsample_2/upsample/ResizeNearestNeighbor:0 (?, 7, 7, 32)\n",
            "22 decoder/conv_upsample_3/conv/BiasAdd:0 (?, 7, 7, 32)\n",
            "23 decoder/conv_upsample_3/upsample/ResizeNearestNeighbor:0 (?, 14, 14, 32)\n",
            "24 decoder/conv_upsample_4/conv/BiasAdd:0 (?, 14, 14, 16)\n",
            "25 decoder/conv_upsample_4/upsample/ResizeNearestNeighbor:0 (?, 14, 14, 16)\n",
            "26 decoder/conv_upsample_5/conv/BiasAdd:0 (?, 14, 14, 16)\n",
            "27 decoder/conv_upsample_5/upsample/ResizeNearestNeighbor:0 (?, 28, 28, 16)\n",
            "28 reconstructed/Sigmoid:0 (?, 28, 28, 1)\n",
            "INFO:tensorflow:Done calling model_fn.\n",
            "INFO:tensorflow:Starting evaluation at 2019-05-11T09:07:15Z\n",
            "INFO:tensorflow:Graph was finalized.\n",
            "INFO:tensorflow:Restoring parameters from /tmp/mnist_convnet_model/20190511_090410/model.ckpt-16000\n",
            "INFO:tensorflow:Running local_init_op.\n",
            "INFO:tensorflow:Done running local_init_op.\n",
            "INFO:tensorflow:Finished evaluation at 2019-05-11-09:07:16\n",
            "INFO:tensorflow:Saving dict for global step 16000: global_step = 16000, loss = 0.0036482494, mae = 0.020269502\n",
            "INFO:tensorflow:Saving 'checkpoint_path' summary for global step 16000: /tmp/mnist_convnet_model/20190511_090410/model.ckpt-16000\n",
            "INFO:tensorflow:global_step/sec: 81.0789\n",
            "INFO:tensorflow:loss = 0.003390244, step = 16000 (6.163 sec)\n",
            "INFO:tensorflow:global_step/sec: 96.0747\n",
            "INFO:tensorflow:loss = 0.003578329, step = 16500 (5.205 sec)\n",
            "INFO:tensorflow:global_step/sec: 96.5965\n",
            "INFO:tensorflow:loss = 0.0038791755, step = 17000 (5.176 sec)\n",
            "INFO:tensorflow:global_step/sec: 96.3315\n",
            "INFO:tensorflow:loss = 0.0036188802, step = 17500 (5.194 sec)\n",
            "INFO:tensorflow:Saving checkpoints for 18000 into /tmp/mnist_convnet_model/20190511_090410/model.ckpt.\n",
            "INFO:tensorflow:Calling model_fn.\n",
            "1 fifo_queue_DequeueUpTo:1 (?, 28, 28, 1)\n",
            "2 encoder/conv_pool/conv/BiasAdd:0 (?, 28, 28, 16)\n",
            "3 encoder/conv_pool/pool/MaxPool:0 (?, 14, 14, 16)\n",
            "4 encoder/conv_pool_1/conv/BiasAdd:0 (?, 14, 14, 16)\n",
            "5 encoder/conv_pool_1/pool/MaxPool:0 (?, 14, 14, 16)\n",
            "6 encoder/conv_pool_2/conv/BiasAdd:0 (?, 14, 14, 32)\n",
            "7 encoder/conv_pool_2/pool/MaxPool:0 (?, 7, 7, 32)\n",
            "8 encoder/conv_pool_3/conv/BiasAdd:0 (?, 7, 7, 32)\n",
            "9 encoder/conv_pool_3/pool/MaxPool:0 (?, 7, 7, 32)\n",
            "10 encoder/conv_pool_4/conv/BiasAdd:0 (?, 7, 7, 16)\n",
            "11 encoder/conv_pool_4/pool/MaxPool:0 (?, 7, 7, 16)\n",
            "12 encoder/conv_pool_5/conv/BiasAdd:0 (?, 7, 7, 8)\n",
            "13 encoder/conv_pool_5/pool/MaxPool:0 (?, 7, 7, 8)\n",
            "14 embeddings/Reshape:0 (?, 392)\n",
            "15 reshape/Reshape:0 (?, 7, 7, 8)\n",
            "16 decoder/conv_upsample/conv/BiasAdd:0 (?, 7, 7, 8)\n",
            "17 decoder/conv_upsample/upsample/ResizeNearestNeighbor:0 (?, 7, 7, 8)\n",
            "18 decoder/conv_upsample_1/conv/BiasAdd:0 (?, 7, 7, 16)\n",
            "19 decoder/conv_upsample_1/upsample/ResizeNearestNeighbor:0 (?, 7, 7, 16)\n",
            "20 decoder/conv_upsample_2/conv/BiasAdd:0 (?, 7, 7, 32)\n",
            "21 decoder/conv_upsample_2/upsample/ResizeNearestNeighbor:0 (?, 7, 7, 32)\n",
            "22 decoder/conv_upsample_3/conv/BiasAdd:0 (?, 7, 7, 32)\n",
            "23 decoder/conv_upsample_3/upsample/ResizeNearestNeighbor:0 (?, 14, 14, 32)\n",
            "24 decoder/conv_upsample_4/conv/BiasAdd:0 (?, 14, 14, 16)\n",
            "25 decoder/conv_upsample_4/upsample/ResizeNearestNeighbor:0 (?, 14, 14, 16)\n",
            "26 decoder/conv_upsample_5/conv/BiasAdd:0 (?, 14, 14, 16)\n",
            "27 decoder/conv_upsample_5/upsample/ResizeNearestNeighbor:0 (?, 28, 28, 16)\n",
            "28 reconstructed/Sigmoid:0 (?, 28, 28, 1)\n",
            "INFO:tensorflow:Done calling model_fn.\n",
            "INFO:tensorflow:Starting evaluation at 2019-05-11T09:07:37Z\n",
            "INFO:tensorflow:Graph was finalized.\n",
            "INFO:tensorflow:Restoring parameters from /tmp/mnist_convnet_model/20190511_090410/model.ckpt-18000\n",
            "INFO:tensorflow:Running local_init_op.\n",
            "INFO:tensorflow:Done running local_init_op.\n",
            "INFO:tensorflow:Finished evaluation at 2019-05-11-09:07:38\n",
            "INFO:tensorflow:Saving dict for global step 18000: global_step = 18000, loss = 0.0035112733, mae = 0.019753708\n",
            "INFO:tensorflow:Saving 'checkpoint_path' summary for global step 18000: /tmp/mnist_convnet_model/20190511_090410/model.ckpt-18000\n",
            "INFO:tensorflow:global_step/sec: 77.2776\n",
            "INFO:tensorflow:loss = 0.0034450602, step = 18000 (6.467 sec)\n",
            "INFO:tensorflow:global_step/sec: 94.7777\n",
            "INFO:tensorflow:loss = 0.003660319, step = 18500 (5.278 sec)\n",
            "INFO:tensorflow:global_step/sec: 96.6343\n",
            "INFO:tensorflow:loss = 0.003336148, step = 19000 (5.172 sec)\n",
            "INFO:tensorflow:global_step/sec: 96.5251\n",
            "INFO:tensorflow:loss = 0.0031381052, step = 19500 (5.180 sec)\n",
            "INFO:tensorflow:Saving checkpoints for 20000 into /tmp/mnist_convnet_model/20190511_090410/model.ckpt.\n",
            "INFO:tensorflow:Calling model_fn.\n",
            "1 fifo_queue_DequeueUpTo:1 (?, 28, 28, 1)\n",
            "2 encoder/conv_pool/conv/BiasAdd:0 (?, 28, 28, 16)\n",
            "3 encoder/conv_pool/pool/MaxPool:0 (?, 14, 14, 16)\n",
            "4 encoder/conv_pool_1/conv/BiasAdd:0 (?, 14, 14, 16)\n",
            "5 encoder/conv_pool_1/pool/MaxPool:0 (?, 14, 14, 16)\n",
            "6 encoder/conv_pool_2/conv/BiasAdd:0 (?, 14, 14, 32)\n",
            "7 encoder/conv_pool_2/pool/MaxPool:0 (?, 7, 7, 32)\n",
            "8 encoder/conv_pool_3/conv/BiasAdd:0 (?, 7, 7, 32)\n",
            "9 encoder/conv_pool_3/pool/MaxPool:0 (?, 7, 7, 32)\n",
            "10 encoder/conv_pool_4/conv/BiasAdd:0 (?, 7, 7, 16)\n",
            "11 encoder/conv_pool_4/pool/MaxPool:0 (?, 7, 7, 16)\n",
            "12 encoder/conv_pool_5/conv/BiasAdd:0 (?, 7, 7, 8)\n",
            "13 encoder/conv_pool_5/pool/MaxPool:0 (?, 7, 7, 8)\n",
            "14 embeddings/Reshape:0 (?, 392)\n",
            "15 reshape/Reshape:0 (?, 7, 7, 8)\n",
            "16 decoder/conv_upsample/conv/BiasAdd:0 (?, 7, 7, 8)\n",
            "17 decoder/conv_upsample/upsample/ResizeNearestNeighbor:0 (?, 7, 7, 8)\n",
            "18 decoder/conv_upsample_1/conv/BiasAdd:0 (?, 7, 7, 16)\n",
            "19 decoder/conv_upsample_1/upsample/ResizeNearestNeighbor:0 (?, 7, 7, 16)\n",
            "20 decoder/conv_upsample_2/conv/BiasAdd:0 (?, 7, 7, 32)\n",
            "21 decoder/conv_upsample_2/upsample/ResizeNearestNeighbor:0 (?, 7, 7, 32)\n",
            "22 decoder/conv_upsample_3/conv/BiasAdd:0 (?, 7, 7, 32)\n",
            "23 decoder/conv_upsample_3/upsample/ResizeNearestNeighbor:0 (?, 14, 14, 32)\n",
            "24 decoder/conv_upsample_4/conv/BiasAdd:0 (?, 14, 14, 16)\n",
            "25 decoder/conv_upsample_4/upsample/ResizeNearestNeighbor:0 (?, 14, 14, 16)\n",
            "26 decoder/conv_upsample_5/conv/BiasAdd:0 (?, 14, 14, 16)\n",
            "27 decoder/conv_upsample_5/upsample/ResizeNearestNeighbor:0 (?, 28, 28, 16)\n",
            "28 reconstructed/Sigmoid:0 (?, 28, 28, 1)\n",
            "INFO:tensorflow:Done calling model_fn.\n",
            "INFO:tensorflow:Starting evaluation at 2019-05-11T09:07:59Z\n",
            "INFO:tensorflow:Graph was finalized.\n",
            "INFO:tensorflow:Restoring parameters from /tmp/mnist_convnet_model/20190511_090410/model.ckpt-20000\n",
            "INFO:tensorflow:Running local_init_op.\n",
            "INFO:tensorflow:Done running local_init_op.\n",
            "INFO:tensorflow:Finished evaluation at 2019-05-11-09:08:00\n",
            "INFO:tensorflow:Saving dict for global step 20000: global_step = 20000, loss = 0.0034466519, mae = 0.019244103\n",
            "INFO:tensorflow:Saving 'checkpoint_path' summary for global step 20000: /tmp/mnist_convnet_model/20190511_090410/model.ckpt-20000\n",
            "INFO:tensorflow:Loss for final step: 0.0031736775.\n"
          ],
          "name": "stdout"
        },
        {
          "output_type": "execute_result",
          "data": {
            "text/plain": [
              "({'global_step': 20000, 'loss': 0.0034466519, 'mae': 0.019244103}, [])"
            ]
          },
          "metadata": {
            "tags": []
          },
          "execution_count": 13
        }
      ]
    },
    {
      "cell_type": "markdown",
      "metadata": {
        "id": "P9ckpVCFwe1n",
        "colab_type": "text"
      },
      "source": [
        "# [optional] Stop Tensorboard"
      ]
    },
    {
      "cell_type": "code",
      "metadata": {
        "id": "YfnpAQa6vhqZ",
        "colab_type": "code",
        "colab": {}
      },
      "source": [
        "!pkill tensorboard && pkill ngrok"
      ],
      "execution_count": 0,
      "outputs": []
    },
    {
      "cell_type": "markdown",
      "metadata": {
        "id": "s6yk7qr6Mhz2",
        "colab_type": "text"
      },
      "source": [
        "# Check reconstructed images"
      ]
    },
    {
      "cell_type": "code",
      "metadata": {
        "id": "Iku6_lE5AYQc",
        "colab_type": "code",
        "colab": {}
      },
      "source": [
        "eval_subset = eval_data[:20]\n",
        "\n",
        "y_pred = classifier.predict(input_fn=make_eval_input_fn(eval_subset))"
      ],
      "execution_count": 0,
      "outputs": []
    },
    {
      "cell_type": "code",
      "metadata": {
        "id": "McVQpDTVK9eG",
        "colab_type": "code",
        "colab": {
          "base_uri": "https://localhost:8080/",
          "height": 600
        },
        "outputId": "d0ad9a6d-a201-4517-e282-8cf3d8ab5294"
      },
      "source": [
        "rec_images = []\n",
        "embeddings = []\n",
        "for pred in y_pred:\n",
        "  rec_images.append(pred['reconstructed_images'])\n",
        "  embeddings.append(pred['embeddings'])"
      ],
      "execution_count": 36,
      "outputs": [
        {
          "output_type": "stream",
          "text": [
            "INFO:tensorflow:Calling model_fn.\n",
            "1 fifo_queue_DequeueUpTo:1 (?, 28, 28, 1)\n",
            "2 encoder/conv_pool/conv/BiasAdd:0 (?, 28, 28, 16)\n",
            "3 encoder/conv_pool/pool/MaxPool:0 (?, 14, 14, 16)\n",
            "4 encoder/conv_pool_1/conv/BiasAdd:0 (?, 14, 14, 16)\n",
            "5 encoder/conv_pool_1/pool/MaxPool:0 (?, 14, 14, 16)\n",
            "6 encoder/conv_pool_2/conv/BiasAdd:0 (?, 14, 14, 32)\n",
            "7 encoder/conv_pool_2/pool/MaxPool:0 (?, 7, 7, 32)\n",
            "8 encoder/conv_pool_3/conv/BiasAdd:0 (?, 7, 7, 32)\n",
            "9 encoder/conv_pool_3/pool/MaxPool:0 (?, 7, 7, 32)\n",
            "10 encoder/conv_pool_4/conv/BiasAdd:0 (?, 7, 7, 16)\n",
            "11 encoder/conv_pool_4/pool/MaxPool:0 (?, 7, 7, 16)\n",
            "12 encoder/conv_pool_5/conv/BiasAdd:0 (?, 7, 7, 8)\n",
            "13 encoder/conv_pool_5/pool/MaxPool:0 (?, 7, 7, 8)\n",
            "14 embeddings/Reshape:0 (?, 392)\n",
            "15 reshape/Reshape:0 (?, 7, 7, 8)\n",
            "16 decoder/conv_upsample/conv/BiasAdd:0 (?, 7, 7, 8)\n",
            "17 decoder/conv_upsample/upsample/ResizeNearestNeighbor:0 (?, 7, 7, 8)\n",
            "18 decoder/conv_upsample_1/conv/BiasAdd:0 (?, 7, 7, 16)\n",
            "19 decoder/conv_upsample_1/upsample/ResizeNearestNeighbor:0 (?, 7, 7, 16)\n",
            "20 decoder/conv_upsample_2/conv/BiasAdd:0 (?, 7, 7, 32)\n",
            "21 decoder/conv_upsample_2/upsample/ResizeNearestNeighbor:0 (?, 7, 7, 32)\n",
            "22 decoder/conv_upsample_3/conv/BiasAdd:0 (?, 7, 7, 32)\n",
            "23 decoder/conv_upsample_3/upsample/ResizeNearestNeighbor:0 (?, 14, 14, 32)\n",
            "24 decoder/conv_upsample_4/conv/BiasAdd:0 (?, 14, 14, 16)\n",
            "25 decoder/conv_upsample_4/upsample/ResizeNearestNeighbor:0 (?, 14, 14, 16)\n",
            "26 decoder/conv_upsample_5/conv/BiasAdd:0 (?, 14, 14, 16)\n",
            "27 decoder/conv_upsample_5/upsample/ResizeNearestNeighbor:0 (?, 28, 28, 16)\n",
            "28 reconstructed/Sigmoid:0 (?, 28, 28, 1)\n",
            "INFO:tensorflow:Done calling model_fn.\n",
            "INFO:tensorflow:Graph was finalized.\n",
            "INFO:tensorflow:Restoring parameters from /tmp/mnist_convnet_model/20190511_090410/model.ckpt-20000\n",
            "INFO:tensorflow:Running local_init_op.\n",
            "INFO:tensorflow:Done running local_init_op.\n"
          ],
          "name": "stdout"
        }
      ]
    },
    {
      "cell_type": "code",
      "metadata": {
        "id": "lIe4LydBLpG-",
        "colab_type": "code",
        "colab": {
          "base_uri": "https://localhost:8080/",
          "height": 580
        },
        "outputId": "2acda92a-3ed8-4c88-dfe8-f5461aca465d"
      },
      "source": [
        "print_images(rec_images)"
      ],
      "execution_count": 37,
      "outputs": [
        {
          "output_type": "display_data",
          "data": {
            "image/png": "[encoded data removed]",
            "text/plain": [
              "<Figure size 864x648 with 20 Axes>"
            ]
          },
          "metadata": {
            "tags": []
          }
        }
      ]
    },
    {
      "cell_type": "code",
      "metadata": {
        "id": "DOS6Rr9hMPuq",
        "colab_type": "code",
        "colab": {
          "base_uri": "https://localhost:8080/",
          "height": 580
        },
        "outputId": "a46d24e8-4bb1-49f2-95b1-5fade9cebf09"
      },
      "source": [
        "print_images(eval_subset)"
      ],
      "execution_count": 38,
      "outputs": [
        {
          "output_type": "display_data",
          "data": {
            "image/png": "[encoded data removed]",
            "text/plain": [
              "<Figure size 864x648 with 20 Axes>"
            ]
          },
          "metadata": {
            "tags": []
          }
        }
      ]
    },
    {
      "cell_type": "code",
      "metadata": {
        "id": "GYp5f4qxM3Ep",
        "colab_type": "code",
        "colab": {}
      },
      "source": [
        ""
      ],
      "execution_count": 0,
      "outputs": []
    }
  ]
}