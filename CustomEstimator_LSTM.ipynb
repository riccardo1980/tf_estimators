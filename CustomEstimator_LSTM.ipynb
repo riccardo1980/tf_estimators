{
 "cells": [
  {
   "cell_type": "markdown",
   "metadata": {},
   "source": [
    "# LSTM Custom Estimator\n",
    "\n",
    "From: https://github.com/GoogleCloudPlatform/training-data-analyst/blob/master/blogs/timeseries/rnn_cloudmle.ipynb"
   ]
  },
  {
   "cell_type": "code",
   "execution_count": 9,
   "metadata": {},
   "outputs": [],
   "source": [
    "from __future__ import absolute_import\n",
    "from __future__ import division\n",
    "from __future__ import print_function\n",
    "\n",
    "import tensorflow as tf\n",
    "import numpy as np\n",
    "import seaborn as sns\n",
    "import pandas as pd\n",
    "import os\n",
    "\n",
    "import matplotlib.pyplot as plt\n",
    "%matplotlib inline"
   ]
  },
  {
   "cell_type": "markdown",
   "metadata": {},
   "source": [
    "# Generate dataset"
   ]
  },
  {
   "cell_type": "code",
   "execution_count": 10,
   "metadata": {},
   "outputs": [],
   "source": [
    "SEQ_LEN = 10       # samples to generate\n",
    "TRAIN_SIZE = 1000  # observations in trainset\n",
    "EVAL_SIZE = 50     # observations in evalset\n",
    "\n",
    "DATA_PATH = '../data'\n",
    "TRAIN_FILE = os.path.join(DATA_PATH,'train.csv')\n",
    "EVAL_FILE = os.path.join(DATA_PATH,'eval.csv')"
   ]
  },
  {
   "cell_type": "code",
   "execution_count": 11,
   "metadata": {},
   "outputs": [],
   "source": [
    "def create_time_series():\n",
    "  freq = (np.random.random()*0.5) + 0.1  # 0.1 to 0.6\n",
    "  ampl = np.random.random() + 0.5  # 0.5 to 1.5\n",
    "  x = np.sin(np.arange(0,SEQ_LEN) * freq) * ampl\n",
    "  return x\n",
    "\n",
    "def to_csv(filename, N):\n",
    "  with open(filename, 'w') as ofp:\n",
    "    for lineno in xrange(0, N):\n",
    "      seq = create_time_series()\n",
    "      line = \",\".join(map(str, seq))\n",
    "      ofp.write(line + '\\n')"
   ]
  },
  {
   "cell_type": "code",
   "execution_count": 12,
   "metadata": {},
   "outputs": [
    {
     "name": "stderr",
     "output_type": "stream",
     "text": [
      "/usr/local/envs/py2env/lib/python2.7/site-packages/matplotlib/font_manager.py:1320: UserWarning: findfont: Font family [u'sans-serif'] not found. Falling back to DejaVu Sans\n",
      "  (prop.get_family(), self.defaultFamily[fontext]))\n"
     ]
    },
    {
     "data": {
      "image/png": "[encoded data removed]",
      "text/plain": [
       "<matplotlib.figure.Figure at 0x7f5794f04dd0>"
      ]
     },
     "metadata": {},
     "output_type": "display_data"
    }
   ],
   "source": [
    "np.random.seed(2020)\n",
    "for i in xrange(0, 5):\n",
    "  plt.plot(create_time_series(),'b')"
   ]
  },
  {
   "cell_type": "code",
   "execution_count": 13,
   "metadata": {},
   "outputs": [],
   "source": [
    "np.random.seed(2020)\n",
    "if not os.path.exists(DATA_PATH):\n",
    "    try:\n",
    "        os.makedirs(value, 0o700)\n",
    "    except OSError as e:\n",
    "        if e.errno != errno.EEXIST:\n",
    "            raise\n",
    "to_csv(TRAIN_FILE, TRAIN_SIZE)\n",
    "to_csv(EVAL_FILE,  EVAL_SIZE)"
   ]
  },
  {
   "cell_type": "code",
   "execution_count": 14,
   "metadata": {},
   "outputs": [
    {
     "name": "stdout",
     "output_type": "stream",
     "text": [
      "==> ../data/train.csv <==\r\n",
      "0.0,0.7676795601533715,1.273105193992784,1.343613900164358,0.9551185647307134,0.24033657703041225,-0.5565489526093019,-1.1633067836835487,-1.3726569106009694,-1.113081351630422\r\n",
      "0.0,0.2681905727177048,0.5029596158942218,0.6750505436907215,0.7630176282844919,0.7558985361132068,0.654580438365987,0.4716894529656276,0.23001719562566458,-0.04031947903770731\r\n",
      "0.0,0.19016946639739402,0.366715454088195,0.5169904516206222,0.6302289651023059,0.6983187433584953,0.7163819284355304,0.6831244986277604,0.6009289704106503,0.4756837182412383\r\n",
      "0.0,0.19901515674824055,0.3867880125477004,0.5527113403439096,0.6874121857549668,0.7832813421912355,0.8349031924405768,0.8393616351089137,0.7964048142318099,0.7084593465353177\r\n",
      "0.0,0.33259501674824316,0.5735673310108592,0.6565343046087889,0.5586403385242935,0.30685309396104954,-0.02946551252596246,-0.35766701036189597,-0.5873390160854529,-0.6552118810547981\r\n",
      "\r\n",
      "==> ../data/eval.csv <==\r\n",
      "0.0,0.5480140772498718,1.011134948244385,1.3176202668383463,1.419992199074996,1.3023922443812492,0.9830378858910018,0.5114005086458815,-0.03945824385558112,-0.584204494921102\r\n",
      "0.0,0.5317195570603994,0.9366790823126141,1.118337680052544,1.0333885933215996,0.7020833791541357,0.20340401014913095,-0.3437661439963714,-0.808983684646773,-1.0813424217484477\r\n",
      "0.0,0.0874007242471296,0.17387729087943263,0.2585153141381443,0.3404198486509903,0.4187248524038924,0.4926023440943998,0.5612711580388393,0.6240052040605616,0.6801411450208958\r\n",
      "0.0,0.39804038939772685,0.7059114702142781,0.8538702635238922,0.8083992106903216,0.5797990085867284,0.21985516118266377,-0.18989314928566287,-0.5566243830163795,-0.7972617903593942\r\n",
      "0.0,0.24915042904480797,0.4802859378050331,0.6766941819302544,0.8241737856704248,0.9120611779646123,0.9340016261628684,0.8884087174831046,0.7785790652145576,0.6124539457904522\r\n"
     ]
    }
   ],
   "source": [
    "!head -5 $TRAIN_FILE $EVAL_FILE"
   ]
  },
  {
   "cell_type": "markdown",
   "metadata": {},
   "source": [
    "# input_fn"
   ]
  },
  {
   "cell_type": "code",
   "execution_count": 15,
   "metadata": {},
   "outputs": [],
   "source": [
    "BATCH_SIZE = 20\n",
    "TIMESERIES_COL = 'rawdata'\n",
    "N_OUTPUTS = 2  # in each sequence, 1-8 are features, and 9-10 is label\n",
    "N_INPUTS = SEQ_LEN - N_OUTPUTS\n",
    "LSTM_SIZE = 3\n",
    "\n",
    "MODEL_DIR = './model/1d_custom_LSTM'"
   ]
  },
  {
   "cell_type": "code",
   "execution_count": 16,
   "metadata": {},
   "outputs": [],
   "source": [
    "# read data and convert to needed format\n",
    "def read_dataset(filename, DEFAULTS, n_outputs, mode=tf.estimator.ModeKeys.TRAIN, batch_size=20):\n",
    "  def _input_fn():\n",
    "    num_epochs = 100 if mode == tf.estimator.ModeKeys.TRAIN else 1\n",
    "    \n",
    "    # could be a path to one file or a file pattern.\n",
    "    input_file_names = tf.train.match_filenames_once(filename)\n",
    "    \n",
    "    filename_queue = tf.train.string_input_producer(\n",
    "        input_file_names, num_epochs=num_epochs, shuffle=True)\n",
    "    reader = tf.TextLineReader()\n",
    "    _, value = reader.read_up_to(filename_queue, num_records=batch_size)\n",
    "\n",
    "    value_column = tf.expand_dims(value, -1, name='value')\n",
    "    print('readcsv={}'.format(value_column))\n",
    "    \n",
    "    # all_data is a list of tensors\n",
    "    all_data = tf.decode_csv(value_column, record_defaults=DEFAULTS)  \n",
    "    inputs = all_data[:len(all_data)-n_outputs]  # first few values\n",
    "    label = all_data[len(all_data)-n_outputs : ] # last few values\n",
    "    \n",
    "    # from list of tensors to tensor with one more dimension\n",
    "    inputs = tf.concat(inputs, axis=1)\n",
    "    label = tf.concat(label, axis=1)\n",
    "    print('inputs={}'.format(inputs))\n",
    "\n",
    "    return {TIMESERIES_COL: inputs}, label   # dict of features, label\n",
    "\n",
    "  return _input_fn\n",
    "    "
   ]
  },
  {
   "cell_type": "code",
   "execution_count": 17,
   "metadata": {},
   "outputs": [],
   "source": [
    "def make_model_fn():\n",
    "  \n",
    "  def _model_fn(features, labels, mode, params):\n",
    "    \n",
    "    # 0. Reformat input shape to become a sequence\n",
    "    feature_seq = tf.split(features[params['feature_columns']], params['n_inputs'], 1)\n",
    "    \n",
    "    # 1. configure the RNN\n",
    "    lstm_cell = tf.contrib.rnn.BasicLSTMCell(params['lstm_size'], forget_bias=1.0)\n",
    "    hidden_layers, _ = tf.nn.static_rnn(lstm_cell, feature_seq, dtype=tf.float32)\n",
    "    \n",
    "    # slice to keep only the last cell of the RNN\n",
    "    hidden_layers = hidden_layers[-1]\n",
    "  \n",
    "    # output is result of linear activation of last layer of RNN\n",
    "    predicted_outputs = tf.layers.dense(inputs=hidden_layers, \n",
    "                                        units=params['n_outputs'])\n",
    "    \n",
    "    # PREDICT\n",
    "    if mode == tf.estimator.ModeKeys.PREDICT:\n",
    "      predictions = {\n",
    "        'output': predicted_outputs,\n",
    "      }\n",
    "      return tf.estimator.EstimatorSpec(mode,\n",
    "                                        predictions=predictions)\n",
    "    \n",
    "    # Compute loss.\n",
    "    loss = tf.losses.mean_squared_error(labels, predicted_outputs)\n",
    "    \n",
    "    # Compute evaluation metrics.\n",
    "    rmse = tf.metrics.root_mean_squared_error(labels, predicted_outputs, name='rmse')\n",
    "\n",
    "    metrics = {'rmse': rmse}\n",
    "    tf.summary.scalar('rmse', rmse[1])\n",
    "\n",
    "    # EVAL\n",
    "    if mode == tf.estimator.ModeKeys.EVAL:\n",
    "      return tf.estimator.EstimatorSpec(mode,\n",
    "                                        loss=loss, \n",
    "                                        eval_metric_ops=metrics)\n",
    "    \n",
    "    # TRAIN\n",
    "    assert mode == tf.estimator.ModeKeys.TRAIN\n",
    "    \n",
    "    # Create Optimiser\n",
    "    optimizer = tf.train.AdamOptimizer()\n",
    "\n",
    "    # Create training operation\n",
    "    train_op = optimizer.minimize(loss,\n",
    "                                  global_step=tf.train.get_global_step())\n",
    "\n",
    "    return tf.estimator.EstimatorSpec(mode, loss=loss, train_op=train_op)\n",
    "  \n",
    "  return _model_fn"
   ]
  },
  {
   "cell_type": "markdown",
   "metadata": {},
   "source": [
    "## Training"
   ]
  },
  {
   "cell_type": "code",
   "execution_count": 18,
   "metadata": {},
   "outputs": [],
   "source": [
    "! rm -rf $MODEL_DIR"
   ]
  },
  {
   "cell_type": "code",
   "execution_count": 19,
   "metadata": {},
   "outputs": [
    {
     "name": "stdout",
     "output_type": "stream",
     "text": [
      "INFO:tensorflow:Using config: {'_save_checkpoints_secs': None, '_session_config': None, '_keep_checkpoint_max': 5, '_task_type': 'worker', '_train_distribute': None, '_is_chief': True, '_cluster_spec': <tensorflow.python.training.server_lib.ClusterSpec object at 0x7f57a4326b50>, '_evaluation_master': '', '_save_checkpoints_steps': 200, '_keep_checkpoint_every_n_hours': 10000, '_service': None, '_num_ps_replicas': 0, '_tf_random_seed': 2020, '_master': '', '_num_worker_replicas': 1, '_task_id': 0, '_log_step_count_steps': 200, '_model_dir': './model/1d_custom_LSTM', '_global_id_in_cluster': 0, '_save_summary_steps': 100}\n"
     ]
    }
   ],
   "source": [
    "my_checkpointing_config = tf.estimator.RunConfig(\n",
    "    save_checkpoints_steps = 200,\n",
    "    #keep_checkpoint_max = 10,\n",
    "    log_step_count_steps = 200,\n",
    "    tf_random_seed=2020         # for reproducibility\n",
    ")\n",
    "\n",
    "# Build 2 hidden layer DNN with 10, 10 units respectively.\n",
    "classifier = tf.estimator.Estimator(\n",
    "  model_fn=make_model_fn(),\n",
    "  params={'feature_columns': TIMESERIES_COL,\n",
    "          'n_inputs': N_INPUTS,\n",
    "          'n_outputs': N_OUTPUTS,\n",
    "          'lstm_size': LSTM_SIZE},  \n",
    "  model_dir=MODEL_DIR,\n",
    "  config=my_checkpointing_config\n",
    ")"
   ]
  },
  {
   "cell_type": "code",
   "execution_count": 20,
   "metadata": {},
   "outputs": [
    {
     "name": "stdout",
     "output_type": "stream",
     "text": [
      "INFO:tensorflow:Running training and evaluation locally (non-distributed).\n",
      "INFO:tensorflow:Start train and evaluate loop. The evaluate will happen after 5 secs (eval_spec.throttle_secs) or training is finished.\n",
      "readcsv=Tensor(\"value:0\", shape=(?, 1), dtype=string, device=/device:CPU:0)\n",
      "inputs=Tensor(\"concat:0\", shape=(?, 8), dtype=float32, device=/device:CPU:0)\n",
      "INFO:tensorflow:Calling model_fn.\n",
      "INFO:tensorflow:Done calling model_fn.\n",
      "INFO:tensorflow:Create CheckpointSaverHook.\n",
      "INFO:tensorflow:Graph was finalized.\n",
      "INFO:tensorflow:Running local_init_op.\n",
      "INFO:tensorflow:Done running local_init_op.\n",
      "INFO:tensorflow:Saving checkpoints for 1 into ./model/1d_custom_LSTM/model.ckpt.\n",
      "INFO:tensorflow:loss = 0.6926301, step = 1\n",
      "INFO:tensorflow:Saving checkpoints for 201 into ./model/1d_custom_LSTM/model.ckpt.\n",
      "INFO:tensorflow:global_step/sec: 97.6026\n",
      "INFO:tensorflow:loss = 0.4220602, step = 201 (2.054 sec)\n",
      "INFO:tensorflow:Saving checkpoints for 401 into ./model/1d_custom_LSTM/model.ckpt.\n",
      "INFO:tensorflow:global_step/sec: 192.979\n",
      "INFO:tensorflow:loss = 0.18437454, step = 401 (1.034 sec)\n",
      "INFO:tensorflow:Saving checkpoints for 403 into ./model/1d_custom_LSTM/model.ckpt.\n",
      "INFO:tensorflow:Loss for final step: 0.14692137.\n",
      "readcsv=Tensor(\"value:0\", shape=(?, 1), dtype=string, device=/device:CPU:0)\n",
      "inputs=Tensor(\"concat:0\", shape=(?, 8), dtype=float32, device=/device:CPU:0)\n",
      "INFO:tensorflow:Calling model_fn.\n",
      "INFO:tensorflow:Done calling model_fn.\n",
      "INFO:tensorflow:Starting evaluation at 2018-11-24-11:40:18\n",
      "INFO:tensorflow:Graph was finalized.\n",
      "INFO:tensorflow:Restoring parameters from ./model/1d_custom_LSTM/model.ckpt-403\n",
      "INFO:tensorflow:Running local_init_op.\n",
      "INFO:tensorflow:Done running local_init_op.\n",
      "INFO:tensorflow:Finished evaluation at 2018-11-24-11:40:18\n",
      "INFO:tensorflow:Saving dict for global step 403: global_step = 403, loss = 0.115240924, rmse = 0.33793932\n",
      "readcsv=Tensor(\"value:0\", shape=(?, 1), dtype=string, device=/device:CPU:0)\n",
      "inputs=Tensor(\"concat:0\", shape=(?, 8), dtype=float32, device=/device:CPU:0)\n",
      "INFO:tensorflow:Calling model_fn.\n",
      "INFO:tensorflow:Done calling model_fn.\n",
      "INFO:tensorflow:Create CheckpointSaverHook.\n",
      "INFO:tensorflow:Graph was finalized.\n",
      "INFO:tensorflow:Restoring parameters from ./model/1d_custom_LSTM/model.ckpt-403\n",
      "INFO:tensorflow:Running local_init_op.\n",
      "INFO:tensorflow:Done running local_init_op.\n",
      "INFO:tensorflow:Saving checkpoints for 404 into ./model/1d_custom_LSTM/model.ckpt.\n",
      "INFO:tensorflow:loss = 0.18144514, step = 404\n",
      "INFO:tensorflow:Saving checkpoints for 604 into ./model/1d_custom_LSTM/model.ckpt.\n",
      "INFO:tensorflow:global_step/sec: 92.7291\n",
      "INFO:tensorflow:loss = 0.04773734, step = 604 (2.159 sec)\n",
      "INFO:tensorflow:Saving checkpoints for 804 into ./model/1d_custom_LSTM/model.ckpt.\n",
      "INFO:tensorflow:global_step/sec: 194.352\n",
      "INFO:tensorflow:loss = 0.02931812, step = 804 (1.030 sec)\n",
      "INFO:tensorflow:Loss for final step: 0.02931812.\n",
      "readcsv=Tensor(\"value:0\", shape=(?, 1), dtype=string, device=/device:CPU:0)\n",
      "inputs=Tensor(\"concat:0\", shape=(?, 8), dtype=float32, device=/device:CPU:0)\n",
      "INFO:tensorflow:Calling model_fn.\n",
      "INFO:tensorflow:Done calling model_fn.\n",
      "INFO:tensorflow:Starting evaluation at 2018-11-24-11:40:25\n",
      "INFO:tensorflow:Graph was finalized.\n",
      "INFO:tensorflow:Restoring parameters from ./model/1d_custom_LSTM/model.ckpt-804\n",
      "INFO:tensorflow:Running local_init_op.\n",
      "INFO:tensorflow:Done running local_init_op.\n",
      "INFO:tensorflow:Finished evaluation at 2018-11-24-11:40:26\n",
      "INFO:tensorflow:Saving dict for global step 804: global_step = 804, loss = 0.01643187, rmse = 0.12414131\n",
      "readcsv=Tensor(\"value:0\", shape=(?, 1), dtype=string, device=/device:CPU:0)\n",
      "inputs=Tensor(\"concat:0\", shape=(?, 8), dtype=float32, device=/device:CPU:0)\n",
      "INFO:tensorflow:Calling model_fn.\n",
      "INFO:tensorflow:Done calling model_fn.\n",
      "INFO:tensorflow:Create CheckpointSaverHook.\n",
      "INFO:tensorflow:Graph was finalized.\n",
      "INFO:tensorflow:Restoring parameters from ./model/1d_custom_LSTM/model.ckpt-804\n",
      "INFO:tensorflow:Running local_init_op.\n",
      "INFO:tensorflow:Done running local_init_op.\n",
      "INFO:tensorflow:Saving checkpoints for 805 into ./model/1d_custom_LSTM/model.ckpt.\n",
      "INFO:tensorflow:loss = 0.029221168, step = 805\n",
      "INFO:tensorflow:Saving checkpoints for 1000 into ./model/1d_custom_LSTM/model.ckpt.\n",
      "INFO:tensorflow:Loss for final step: 0.02191787.\n",
      "readcsv=Tensor(\"value:0\", shape=(?, 1), dtype=string, device=/device:CPU:0)\n",
      "inputs=Tensor(\"concat:0\", shape=(?, 8), dtype=float32, device=/device:CPU:0)\n",
      "INFO:tensorflow:Calling model_fn.\n",
      "INFO:tensorflow:Done calling model_fn.\n",
      "INFO:tensorflow:Starting evaluation at 2018-11-24-11:40:31\n",
      "INFO:tensorflow:Graph was finalized.\n",
      "INFO:tensorflow:Restoring parameters from ./model/1d_custom_LSTM/model.ckpt-1000\n",
      "INFO:tensorflow:Running local_init_op.\n",
      "INFO:tensorflow:Done running local_init_op.\n",
      "INFO:tensorflow:Finished evaluation at 2018-11-24-11:40:32\n",
      "INFO:tensorflow:Saving dict for global step 1000: global_step = 1000, loss = 0.011764114, rmse = 0.10546337\n"
     ]
    }
   ],
   "source": [
    "# Train the Model.\n",
    "\n",
    "DEFAULTS = [[0.0] for x in xrange(0, SEQ_LEN)]\n",
    "train_spec = tf.estimator.TrainSpec(\n",
    "  input_fn=read_dataset(TRAIN_FILE, DEFAULTS, N_OUTPUTS,\n",
    "                        mode=tf.estimator.ModeKeys.TRAIN), \n",
    "                        max_steps=1000)\n",
    "\n",
    "eval_spec = tf.estimator.EvalSpec(\n",
    "  input_fn=read_dataset(EVAL_FILE, DEFAULTS, N_OUTPUTS,\n",
    "                        mode=tf.estimator.ModeKeys.EVAL),\n",
    "  steps=None,          # use complete test set\n",
    "  start_delay_secs=0,  # start immediately\n",
    "  throttle_secs=5)     # minimum delay between evaluations\n",
    "\n",
    "tf.estimator.train_and_evaluate(classifier, train_spec, eval_spec)"
   ]
  },
  {
   "cell_type": "code",
   "execution_count": 21,
   "metadata": {},
   "outputs": [
    {
     "name": "stdout",
     "output_type": "stream",
     "text": [
      "readcsv=Tensor(\"value:0\", shape=(?, 1), dtype=string, device=/device:CPU:0)\n",
      "inputs=Tensor(\"concat:0\", shape=(?, 8), dtype=float32, device=/device:CPU:0)\n",
      "INFO:tensorflow:Calling model_fn.\n",
      "INFO:tensorflow:Done calling model_fn.\n",
      "INFO:tensorflow:Starting evaluation at 2018-11-24-11:40:32\n",
      "INFO:tensorflow:Graph was finalized.\n",
      "INFO:tensorflow:Restoring parameters from ./model/1d_custom_LSTM/model.ckpt-1000\n",
      "INFO:tensorflow:Running local_init_op.\n",
      "INFO:tensorflow:Done running local_init_op.\n",
      "INFO:tensorflow:Finished evaluation at 2018-11-24-11:40:32\n",
      "INFO:tensorflow:Saving dict for global step 1000: global_step = 1000, loss = 0.011764114, rmse = 0.10546337\n",
      "\n",
      "Test set rmse: 0.105\n",
      "\n"
     ]
    }
   ],
   "source": [
    "# Evaluate the model.\n",
    "eval_result = classifier.evaluate(\n",
    "  input_fn=read_dataset(EVAL_FILE, DEFAULTS, N_OUTPUTS,\n",
    "                        mode=tf.estimator.ModeKeys.EVAL))\n",
    "print('\\nTest set rmse: {rmse:0.3f}\\n'.format(**eval_result))"
   ]
  },
  {
   "cell_type": "code",
   "execution_count": 22,
   "metadata": {},
   "outputs": [],
   "source": [
    "eval_set = np.loadtxt(open(EVAL_FILE, \"rb\"), delimiter=\",\", dtype=np.float32)\n",
    "x_eval = eval_set[:,:-N_OUTPUTS]\n",
    "y_eval = eval_set[:,-N_OUTPUTS:]"
   ]
  },
  {
   "cell_type": "code",
   "execution_count": 23,
   "metadata": {},
   "outputs": [],
   "source": [
    "predict_x = {\n",
    "    'rawdata': x_eval\n",
    "}\n",
    "predictions = classifier.predict(\n",
    "    input_fn=tf.estimator.inputs.numpy_input_fn(predict_x, None, \n",
    "                                                batch_size=1, shuffle=False, num_epochs=1))"
   ]
  },
  {
   "cell_type": "code",
   "execution_count": 24,
   "metadata": {},
   "outputs": [
    {
     "name": "stdout",
     "output_type": "stream",
     "text": [
      "INFO:tensorflow:Calling model_fn.\n",
      "INFO:tensorflow:Done calling model_fn.\n",
      "INFO:tensorflow:Graph was finalized.\n",
      "INFO:tensorflow:Restoring parameters from ./model/1d_custom_LSTM/model.ckpt-1000\n",
      "INFO:tensorflow:Running local_init_op.\n",
      "INFO:tensorflow:Done running local_init_op.\n"
     ]
    }
   ],
   "source": [
    "y_pred = np.empty_like(y_eval)\n",
    "for idx, pred in enumerate(predictions):\n",
    "    y_pred[idx,:] = pred['output']"
   ]
  },
  {
   "cell_type": "code",
   "execution_count": 25,
   "metadata": {},
   "outputs": [
    {
     "data": {
      "image/png": "[encoded data removed]",
      "text/plain": [
       "<matplotlib.figure.Figure at 0x7f5788d9a450>"
      ]
     },
     "metadata": {},
     "output_type": "display_data"
    }
   ],
   "source": [
    "EXAMPLES = 8\n",
    "past_time = range(SEQ_LEN - N_OUTPUTS)\n",
    "pred_time = range(SEQ_LEN - N_OUTPUTS-1,SEQ_LEN)\n",
    "\n",
    "for past, correct, pred in zip(x_eval[:EXAMPLES], y_eval[:EXAMPLES], y_pred[:EXAMPLES]):\n",
    "  plt.plot(past_time, past,'b')\n",
    "  plt.plot(pred_time, np.concatenate((past[-1:], correct)),'g')\n",
    "  plt.plot(pred_time, np.concatenate((past[-1:], pred)),'r')"
   ]
  }
 ],
 "metadata": {
  "kernelspec": {
   "display_name": "Python 2",
   "language": "python",
   "name": "python2"
  }
 },
 "nbformat": 4,
 "nbformat_minor": 2
}
